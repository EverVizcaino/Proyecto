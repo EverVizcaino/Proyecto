{
 "cells": [
  {
   "cell_type": "code",
   "execution_count": 6,
   "metadata": {},
   "outputs": [],
   "source": [
    "import requests\n",
    "import datetime as dt\n",
    "from matplotlib import pyplot as plt\n",
    "import pandas as pd\n",
    "import json\n",
    "from sklearn.linear_model import LinearRegression\n",
    "from sklearn.metrics import mean_squared_error\n",
    "import numpy as np"
   ]
  },
  {
   "cell_type": "markdown",
   "metadata": {},
   "source": [
    "## Carga de datos y clasificación con __Python__. \n",
    "\n",
    "###  Fuente de Datos \n",
    "\n",
    "Los datos se obtuvieron de una API gratuita para datos sobre el  nuevo coronavirus (covid-19) https://covid19api.com/. De esta manera los datos se pueden ir actualizando de forma automática. \n",
    "\n",
    "Se seleccionó a México, Suecia, Nueva Zelanda y España."
   ]
  },
  {
   "cell_type": "code",
   "execution_count": 4,
   "metadata": {},
   "outputs": [],
   "source": [
    "url= \"https://api.covid19api.com/dayone/country/mexico/status/confirmed/live\" "
   ]
  },
  {
   "cell_type": "markdown",
   "metadata": {},
   "source": [
    "### Carga de datos\n",
    "\n",
    "Se obtienen y se convierten datos a <ins> json </ins>. Despues se asignan dos variables para los casos confirmados y las fechas. Para poder hacerlo se importa __requests__ y __json__ "
   ]
  },
  {
   "cell_type": "code",
   "execution_count": 5,
   "metadata": {},
   "outputs": [],
   "source": [
    "response= requests.get(url)\n",
    "datos= response.json()\n",
    "casos_mexico = []\n",
    "fechas_mexico = []"
   ]
  },
  {
   "cell_type": "markdown",
   "metadata": {},
   "source": [
    "### Arreglo de datos\n",
    "\n",
    "Se agregan los datos y se le da un formato de fecha a la columna \"Date\", pues ésta era un objeto."
   ]
  },
  {
   "cell_type": "code",
   "execution_count": 6,
   "metadata": {},
   "outputs": [],
   "source": [
    "for x in datos:\n",
    "    casos_mexico.append(x[\"Cases\"])\n",
    "    fecha = dt.datetime.strptime(x[\"Date\"][0:10], \"%Y-%m-%d\")\n",
    "    fechas_mexico.append(fecha)"
   ]
  },
  {
   "cell_type": "markdown",
   "metadata": {},
   "source": [
    "Se hace lo mismo para los países seleccionados"
   ]
  },
  {
   "cell_type": "code",
   "execution_count": 7,
   "metadata": {},
   "outputs": [],
   "source": [
    "r = requests.get(\"https://api.covid19api.com/dayone/country/spain/status/confirmed/live\")\n",
    "datos_spain = r.json()\n",
    "casos_spain = [ x[\"Cases\"] for x in datos_spain ]\n",
    "fechas_spain = [ dt.datetime.strptime(x[\"Date\"][0:10], \"%Y-%m-%d\") for x in datos_spain ]"
   ]
  },
  {
   "cell_type": "code",
   "execution_count": 8,
   "metadata": {},
   "outputs": [],
   "source": [
    "r = requests.get(\"https://api.covid19api.com/dayone/country/new-zealand/status/confirmed/live\")\n",
    "datos_nz = r.json()\n",
    "casos_nz = [ x[\"Cases\"] for x in datos_nz ]\n",
    "fechas_nz = [ dt.datetime.strptime(x[\"Date\"][0:10], \"%Y-%m-%d\") for x in datos_nz ]"
   ]
  },
  {
   "cell_type": "code",
   "execution_count": 9,
   "metadata": {},
   "outputs": [],
   "source": [
    "r = requests.get(\"https://api.covid19api.com/dayone/country/sweden/status/confirmed/live\")\n",
    "datos_sweden = r.json()\n",
    "casos_sweden = [ x[\"Cases\"] for x in datos_sweden ]\n",
    "fechas_sweden = [ dt.datetime.strptime(x[\"Date\"][0:10], \"%Y-%m-%d\") for x in datos_sweden ]"
   ]
  },
  {
   "cell_type": "markdown",
   "metadata": {},
   "source": [
    "Ahora que se tienen los datos en el formato correspondiente, con __pandas__ hacemos un dataframe por país. Sin embargo, la API no tiene un registro de los casos de forma homogénea, por lo que se tuvieron que eliminar algunos datos para tener la misma dimensión a la hora de concatenar. Se editó de tal manera que los datos de los demás países coincidieran con los de México."
   ]
  },
  {
   "cell_type": "code",
   "execution_count": 10,
   "metadata": {},
   "outputs": [],
   "source": [
    "df_sweden = pd.DataFrame({\n",
    "    'Fechas': fechas_sweden,\n",
    "    'Sweden': casos_sweden,})\n",
    "df_sweden= df_sweden.drop(range(28),axis=0)\n",
    "df_suecia= df_sweden.reset_index(drop=True)"
   ]
  },
  {
   "cell_type": "code",
   "execution_count": 11,
   "metadata": {},
   "outputs": [],
   "source": [
    "df_spain = pd.DataFrame({\n",
    "    'Spain': casos_spain})\n",
    "df_spain= df_spain.drop(range(27),axis=0)\n",
    "df_spain= df_spain.reset_index(drop=True)\n",
    "df_españa= df_spain\n",
    "\n"
   ]
  },
  {
   "cell_type": "markdown",
   "metadata": {},
   "source": [
    "__Nota:__ Para el caso de Nueva Zelanda no se hizo lo mismo, pues los registros coincidian con los de México."
   ]
  },
  {
   "cell_type": "code",
   "execution_count": 12,
   "metadata": {},
   "outputs": [],
   "source": [
    "df_nz = pd.DataFrame({\n",
    "    'New Zealand': casos_nz})\n",
    "            "
   ]
  },
  {
   "cell_type": "code",
   "execution_count": 13,
   "metadata": {},
   "outputs": [],
   "source": [
    "df_mex = pd.DataFrame({\n",
    "    'Mexico': casos_mexico,\n",
    "    })\n"
   ]
  },
  {
   "cell_type": "markdown",
   "metadata": {},
   "source": [
    "Ahora se hace un mismo dataframe de los casos confirmados"
   ]
  },
  {
   "cell_type": "code",
   "execution_count": 106,
   "metadata": {},
   "outputs": [
    {
     "data": {
      "text/html": [
       "<div>\n",
       "<style scoped>\n",
       "    .dataframe tbody tr th:only-of-type {\n",
       "        vertical-align: middle;\n",
       "    }\n",
       "\n",
       "    .dataframe tbody tr th {\n",
       "        vertical-align: top;\n",
       "    }\n",
       "\n",
       "    .dataframe thead th {\n",
       "        text-align: right;\n",
       "    }\n",
       "</style>\n",
       "<table border=\"1\" class=\"dataframe\">\n",
       "  <thead>\n",
       "    <tr style=\"text-align: right;\">\n",
       "      <th></th>\n",
       "      <th>Fechas</th>\n",
       "      <th>Sweden</th>\n",
       "      <th>Mexico</th>\n",
       "      <th>Spain</th>\n",
       "      <th>New Zealand</th>\n",
       "    </tr>\n",
       "  </thead>\n",
       "  <tbody>\n",
       "    <tr>\n",
       "      <th>0</th>\n",
       "      <td>2020-02-28</td>\n",
       "      <td>11</td>\n",
       "      <td>1</td>\n",
       "      <td>32</td>\n",
       "      <td>1</td>\n",
       "    </tr>\n",
       "    <tr>\n",
       "      <th>1</th>\n",
       "      <td>2020-02-29</td>\n",
       "      <td>14</td>\n",
       "      <td>4</td>\n",
       "      <td>45</td>\n",
       "      <td>1</td>\n",
       "    </tr>\n",
       "    <tr>\n",
       "      <th>2</th>\n",
       "      <td>2020-03-01</td>\n",
       "      <td>14</td>\n",
       "      <td>5</td>\n",
       "      <td>84</td>\n",
       "      <td>1</td>\n",
       "    </tr>\n",
       "    <tr>\n",
       "      <th>3</th>\n",
       "      <td>2020-03-02</td>\n",
       "      <td>19</td>\n",
       "      <td>5</td>\n",
       "      <td>120</td>\n",
       "      <td>1</td>\n",
       "    </tr>\n",
       "    <tr>\n",
       "      <th>4</th>\n",
       "      <td>2020-03-03</td>\n",
       "      <td>32</td>\n",
       "      <td>5</td>\n",
       "      <td>165</td>\n",
       "      <td>1</td>\n",
       "    </tr>\n",
       "    <tr>\n",
       "      <th>...</th>\n",
       "      <td>...</td>\n",
       "      <td>...</td>\n",
       "      <td>...</td>\n",
       "      <td>...</td>\n",
       "      <td>...</td>\n",
       "    </tr>\n",
       "    <tr>\n",
       "      <th>223</th>\n",
       "      <td>2020-10-08</td>\n",
       "      <td>97532</td>\n",
       "      <td>804488</td>\n",
       "      <td>848324</td>\n",
       "      <td>1866</td>\n",
       "    </tr>\n",
       "    <tr>\n",
       "      <th>224</th>\n",
       "      <td>2020-10-09</td>\n",
       "      <td>98451</td>\n",
       "      <td>810020</td>\n",
       "      <td>861112</td>\n",
       "      <td>1870</td>\n",
       "    </tr>\n",
       "    <tr>\n",
       "      <th>225</th>\n",
       "      <td>2020-10-10</td>\n",
       "      <td>98451</td>\n",
       "      <td>814328</td>\n",
       "      <td>861112</td>\n",
       "      <td>1871</td>\n",
       "    </tr>\n",
       "    <tr>\n",
       "      <th>226</th>\n",
       "      <td>2020-10-11</td>\n",
       "      <td>98451</td>\n",
       "      <td>817503</td>\n",
       "      <td>861112</td>\n",
       "      <td>1871</td>\n",
       "    </tr>\n",
       "    <tr>\n",
       "      <th>227</th>\n",
       "      <td>2020-10-12</td>\n",
       "      <td>98451</td>\n",
       "      <td>821045</td>\n",
       "      <td>888968</td>\n",
       "      <td>1872</td>\n",
       "    </tr>\n",
       "  </tbody>\n",
       "</table>\n",
       "<p>228 rows × 5 columns</p>\n",
       "</div>"
      ],
      "text/plain": [
       "        Fechas  Sweden  Mexico   Spain  New Zealand\n",
       "0   2020-02-28      11       1      32            1\n",
       "1   2020-02-29      14       4      45            1\n",
       "2   2020-03-01      14       5      84            1\n",
       "3   2020-03-02      19       5     120            1\n",
       "4   2020-03-03      32       5     165            1\n",
       "..         ...     ...     ...     ...          ...\n",
       "223 2020-10-08   97532  804488  848324         1866\n",
       "224 2020-10-09   98451  810020  861112         1870\n",
       "225 2020-10-10   98451  814328  861112         1871\n",
       "226 2020-10-11   98451  817503  861112         1871\n",
       "227 2020-10-12   98451  821045  888968         1872\n",
       "\n",
       "[228 rows x 5 columns]"
      ]
     },
     "execution_count": 106,
     "metadata": {},
     "output_type": "execute_result"
    }
   ],
   "source": [
    "df_countries= pd.concat([df_suecia, df_mex, df_españa, df_nz], axis=1)\n",
    "                                                                 \n",
    "df_confirm= df_countries.reset_index(drop=True)\n",
    "df_confirm"
   ]
  },
  {
   "cell_type": "markdown",
   "metadata": {},
   "source": [
    "Se puede observar que hasta hoy, España tiene el mayor número de casos confirmados y México le seguiría. Sin embargo, en el número de muertos por el covid-19, no se esperan los mismos resultados como se muestra a continuación."
   ]
  },
  {
   "cell_type": "markdown",
   "metadata": {},
   "source": [
    "## Muertes\n",
    "\n",
    "Ahora se toma la información para los registros de muertes por causa del virus SARS-COV-2\n",
    "\n",
    "Se hace el mismo procedimiento que en los casos confirmados"
   ]
  },
  {
   "cell_type": "code",
   "execution_count": 69,
   "metadata": {},
   "outputs": [],
   "source": [
    "url2= \"https://api.covid19api.com/dayone/country/mexico/status/deaths/live\""
   ]
  },
  {
   "cell_type": "code",
   "execution_count": 70,
   "metadata": {},
   "outputs": [],
   "source": [
    "#Obtenemos y convertimos datos a json\n",
    "respuesta= requests.get(url2)\n",
    "datos2= respuesta.json()\n",
    "deaths_mexico = []\n",
    "fecha_mexico = []"
   ]
  },
  {
   "cell_type": "code",
   "execution_count": 71,
   "metadata": {},
   "outputs": [],
   "source": [
    "for dato in datos2:\n",
    "    deaths_mexico.append(dato[\"Cases\"])\n",
    "    fecha = dt.datetime.strptime(dato[\"Date\"][0:10], \"%Y-%m-%d\")\n",
    "    fecha_mexico.append(fecha)"
   ]
  },
  {
   "cell_type": "code",
   "execution_count": 72,
   "metadata": {},
   "outputs": [],
   "source": [
    "r = requests.get(\"https://api.covid19api.com/dayone/country/spain/status/deaths/live\")\n",
    "datos_muertes_spain = r.json()\n",
    "deaths_spain = [ dato[\"Cases\"] for dato in datos_muertes_spain ]\n",
    "fecha_spain = [ dt.datetime.strptime(dato[\"Date\"][0:10], \"%Y-%m-%d\") for dato in datos_muertes_spain ]"
   ]
  },
  {
   "cell_type": "code",
   "execution_count": 73,
   "metadata": {},
   "outputs": [],
   "source": [
    "r = requests.get(\"https://api.covid19api.com/dayone/country/sweden/status/deaths/live\")\n",
    "datos_muertes_sweden = r.json()\n",
    "deaths_sweden = [ dato[\"Cases\"] for dato in datos_muertes_sweden ]\n",
    "fecha_sweden = [ dt.datetime.strptime(dato[\"Date\"][0:10], \"%Y-%m-%d\") for dato in datos_muertes_sweden ]"
   ]
  },
  {
   "cell_type": "code",
   "execution_count": 74,
   "metadata": {},
   "outputs": [],
   "source": [
    "r = requests.get(\"https://api.covid19api.com/dayone/country/new-zealand/status/deaths/live\")\n",
    "datos_muertes_nz = r.json()\n",
    "deaths_nz = [ dato[\"Cases\"] for dato in datos_muertes_nz ]\n",
    "fecha_nz = [ dt.datetime.strptime(dato[\"Date\"][0:10], \"%Y-%m-%d\") for dato in datos_muertes_nz ]"
   ]
  },
  {
   "cell_type": "code",
   "execution_count": 75,
   "metadata": {},
   "outputs": [],
   "source": [
    "df_deaths_spain = pd.DataFrame({\n",
    "    'Fecha': fecha_spain,\n",
    "    'Spain': deaths_spain})\n",
    "df_deaths_spain= df_deaths_spain.drop(range(27),axis=0)\n",
    "df_deaths_spain= df_deaths_spain.reset_index(drop=True) \n",
    "df_muertes_españa= df_deaths_spain\n"
   ]
  },
  {
   "cell_type": "code",
   "execution_count": 76,
   "metadata": {},
   "outputs": [],
   "source": [
    "df_deaths_sweden = pd.DataFrame({\n",
    "    'Sweden': deaths_sweden,})\n",
    "df_deaths_sweden= df_deaths_sweden.drop(range(28),axis=0)\n",
    "df_deaths_sweden= df_deaths_sweden.reset_index(drop=True)\n",
    "df_muertes_suecia= df_deaths_sweden"
   ]
  },
  {
   "cell_type": "code",
   "execution_count": 77,
   "metadata": {},
   "outputs": [],
   "source": [
    "df_deaths_nz = pd.DataFrame({\n",
    "    'New Zealand': deaths_nz,})\n"
   ]
  },
  {
   "cell_type": "code",
   "execution_count": 78,
   "metadata": {},
   "outputs": [],
   "source": [
    "df_deaths_mex= pd.DataFrame({\n",
    "    'Mexico': deaths_mexico})"
   ]
  },
  {
   "cell_type": "code",
   "execution_count": 97,
   "metadata": {},
   "outputs": [
    {
     "data": {
      "text/html": [
       "<div>\n",
       "<style scoped>\n",
       "    .dataframe tbody tr th:only-of-type {\n",
       "        vertical-align: middle;\n",
       "    }\n",
       "\n",
       "    .dataframe tbody tr th {\n",
       "        vertical-align: top;\n",
       "    }\n",
       "\n",
       "    .dataframe thead th {\n",
       "        text-align: right;\n",
       "    }\n",
       "</style>\n",
       "<table border=\"1\" class=\"dataframe\">\n",
       "  <thead>\n",
       "    <tr style=\"text-align: right;\">\n",
       "      <th></th>\n",
       "      <th>Fecha</th>\n",
       "      <th>Spain</th>\n",
       "      <th>Mexico</th>\n",
       "      <th>Sweden</th>\n",
       "      <th>New Zealand</th>\n",
       "    </tr>\n",
       "  </thead>\n",
       "  <tbody>\n",
       "    <tr>\n",
       "      <th>0</th>\n",
       "      <td>2020-02-28</td>\n",
       "      <td>0</td>\n",
       "      <td>0</td>\n",
       "      <td>0</td>\n",
       "      <td>0</td>\n",
       "    </tr>\n",
       "    <tr>\n",
       "      <th>1</th>\n",
       "      <td>2020-02-29</td>\n",
       "      <td>0</td>\n",
       "      <td>0</td>\n",
       "      <td>0</td>\n",
       "      <td>0</td>\n",
       "    </tr>\n",
       "    <tr>\n",
       "      <th>2</th>\n",
       "      <td>2020-03-01</td>\n",
       "      <td>0</td>\n",
       "      <td>0</td>\n",
       "      <td>0</td>\n",
       "      <td>0</td>\n",
       "    </tr>\n",
       "    <tr>\n",
       "      <th>3</th>\n",
       "      <td>2020-03-02</td>\n",
       "      <td>0</td>\n",
       "      <td>0</td>\n",
       "      <td>0</td>\n",
       "      <td>0</td>\n",
       "    </tr>\n",
       "    <tr>\n",
       "      <th>4</th>\n",
       "      <td>2020-03-03</td>\n",
       "      <td>1</td>\n",
       "      <td>0</td>\n",
       "      <td>0</td>\n",
       "      <td>0</td>\n",
       "    </tr>\n",
       "    <tr>\n",
       "      <th>...</th>\n",
       "      <td>...</td>\n",
       "      <td>...</td>\n",
       "      <td>...</td>\n",
       "      <td>...</td>\n",
       "      <td>...</td>\n",
       "    </tr>\n",
       "    <tr>\n",
       "      <th>223</th>\n",
       "      <td>2020-10-08</td>\n",
       "      <td>32688</td>\n",
       "      <td>83096</td>\n",
       "      <td>5892</td>\n",
       "      <td>25</td>\n",
       "    </tr>\n",
       "    <tr>\n",
       "      <th>224</th>\n",
       "      <td>2020-10-09</td>\n",
       "      <td>32929</td>\n",
       "      <td>83497</td>\n",
       "      <td>5894</td>\n",
       "      <td>25</td>\n",
       "    </tr>\n",
       "    <tr>\n",
       "      <th>225</th>\n",
       "      <td>2020-10-10</td>\n",
       "      <td>32929</td>\n",
       "      <td>83642</td>\n",
       "      <td>5894</td>\n",
       "      <td>25</td>\n",
       "    </tr>\n",
       "    <tr>\n",
       "      <th>226</th>\n",
       "      <td>2020-10-11</td>\n",
       "      <td>32929</td>\n",
       "      <td>83781</td>\n",
       "      <td>5894</td>\n",
       "      <td>25</td>\n",
       "    </tr>\n",
       "    <tr>\n",
       "      <th>227</th>\n",
       "      <td>2020-10-12</td>\n",
       "      <td>33124</td>\n",
       "      <td>83945</td>\n",
       "      <td>5894</td>\n",
       "      <td>25</td>\n",
       "    </tr>\n",
       "  </tbody>\n",
       "</table>\n",
       "<p>228 rows × 5 columns</p>\n",
       "</div>"
      ],
      "text/plain": [
       "         Fecha  Spain  Mexico  Sweden  New Zealand\n",
       "0   2020-02-28      0       0       0            0\n",
       "1   2020-02-29      0       0       0            0\n",
       "2   2020-03-01      0       0       0            0\n",
       "3   2020-03-02      0       0       0            0\n",
       "4   2020-03-03      1       0       0            0\n",
       "..         ...    ...     ...     ...          ...\n",
       "223 2020-10-08  32688   83096    5892           25\n",
       "224 2020-10-09  32929   83497    5894           25\n",
       "225 2020-10-10  32929   83642    5894           25\n",
       "226 2020-10-11  32929   83781    5894           25\n",
       "227 2020-10-12  33124   83945    5894           25\n",
       "\n",
       "[228 rows x 5 columns]"
      ]
     },
     "execution_count": 97,
     "metadata": {},
     "output_type": "execute_result"
    }
   ],
   "source": [
    "df_countries_deaths= pd.concat([df_muertes_españa, df_deaths_mex, df_muertes_suecia, df_deaths_nz], axis=1)\n",
    "df_countries_deaths= df_countries_deaths.reset_index(drop=True)\n",
    "df_countries_deaths"
   ]
  },
  {
   "cell_type": "markdown",
   "metadata": {},
   "source": [
    "A pesar de que España tiene mas casos confirmados, a simple vista se observa que México tiene el mayor número de muertos. Esto puede ser debido al diseño de las políticas en materia de salud de cada país, principalmente."
   ]
  },
  {
   "cell_type": "markdown",
   "metadata": {},
   "source": [
    "## Recuperados\n",
    "Ahora se obtienen los datos de los registros de las personas recuperadas por causa del virus SARS-COV-2.\n",
    "\n",
    "De igual manera se hace lo mismo que en los casos anteriores.\n"
   ]
  },
  {
   "cell_type": "code",
   "execution_count": 80,
   "metadata": {},
   "outputs": [],
   "source": [
    "url3=\"https://api.covid19api.com/dayone/country/mexico/status/recovered/live\""
   ]
  },
  {
   "cell_type": "code",
   "execution_count": 81,
   "metadata": {},
   "outputs": [],
   "source": [
    "#Datos a JSON de los casos recuperados\n",
    "response3= requests.get(url3)\n",
    "datos3= response3.json()\n",
    "recovered_mex=[]\n",
    "fecha_mex=[]"
   ]
  },
  {
   "cell_type": "code",
   "execution_count": 82,
   "metadata": {},
   "outputs": [],
   "source": [
    "for x in datos3:\n",
    "    recovered_mex.append(x[\"Cases\"])\n",
    "    fecha= dt.datetime.strptime(x[\"Date\"][0:10], \"%Y-%m-%d\")\n",
    "    fecha_mex.append(fecha)\n",
    "    "
   ]
  },
  {
   "cell_type": "code",
   "execution_count": 83,
   "metadata": {},
   "outputs": [],
   "source": [
    "r = requests.get(\"https://api.covid19api.com/dayone/country/spain/status/recovered/live\")\n",
    "datos_recuperados_spain = r.json()\n",
    "recovered_spain = [x[\"Cases\"] for x in datos_recuperados_spain]"
   ]
  },
  {
   "cell_type": "code",
   "execution_count": 84,
   "metadata": {},
   "outputs": [],
   "source": [
    "r = requests.get(\"https://api.covid19api.com/dayone/country/new-zealand/status/recovered/live\")\n",
    "datos_recuperados_nz = r.json()\n",
    "recovered_nz = [x[\"Cases\"] for x in datos_recuperados_nz]"
   ]
  },
  {
   "cell_type": "code",
   "execution_count": 85,
   "metadata": {},
   "outputs": [],
   "source": [
    "r = requests.get(\"https://api.covid19api.com/dayone/country/sweden/status/recovered/live\")\n",
    "datos_recuperados_sweden = r.json()\n",
    "recovered_sweden = [x[\"Cases\"] for x in datos_recuperados_sweden]"
   ]
  },
  {
   "cell_type": "code",
   "execution_count": 86,
   "metadata": {},
   "outputs": [],
   "source": [
    "df_recovered_mex= pd.DataFrame({\n",
    "    'Fecha': fecha_mex,\n",
    "    'Mexico': recovered_mex,\n",
    "     })\n"
   ]
  },
  {
   "cell_type": "code",
   "execution_count": 87,
   "metadata": {},
   "outputs": [],
   "source": [
    "df_recovered_spain = pd.DataFrame({\n",
    "    'Spain': recovered_spain})\n",
    "df_recovered_spain= df_recovered_spain.drop(range(27),axis=0)\n",
    "df_recovered_spain= df_recovered_spain.reset_index(drop=True) \n",
    "df_recuperados_españa= df_recovered_spain"
   ]
  },
  {
   "cell_type": "code",
   "execution_count": 88,
   "metadata": {},
   "outputs": [],
   "source": [
    "df_recovered_sweden = pd.DataFrame({\n",
    "    'Sweden': recovered_sweden})\n",
    "df_recovered_sweden= df_recovered_sweden.drop(range(28),axis=0)\n",
    "df_recovered_sweden= df_recovered_sweden.reset_index(drop=True) \n",
    "df_recuperados_suecia= df_recovered_sweden"
   ]
  },
  {
   "cell_type": "code",
   "execution_count": 89,
   "metadata": {},
   "outputs": [],
   "source": [
    "df_recovered_nz = pd.DataFrame({\n",
    "    'New Zealand': recovered_nz,})\n"
   ]
  },
  {
   "cell_type": "code",
   "execution_count": 107,
   "metadata": {},
   "outputs": [
    {
     "data": {
      "text/html": [
       "<div>\n",
       "<style scoped>\n",
       "    .dataframe tbody tr th:only-of-type {\n",
       "        vertical-align: middle;\n",
       "    }\n",
       "\n",
       "    .dataframe tbody tr th {\n",
       "        vertical-align: top;\n",
       "    }\n",
       "\n",
       "    .dataframe thead th {\n",
       "        text-align: right;\n",
       "    }\n",
       "</style>\n",
       "<table border=\"1\" class=\"dataframe\">\n",
       "  <thead>\n",
       "    <tr style=\"text-align: right;\">\n",
       "      <th></th>\n",
       "      <th>Fecha</th>\n",
       "      <th>Mexico</th>\n",
       "      <th>Spain</th>\n",
       "      <th>Sweden</th>\n",
       "      <th>New Zealand</th>\n",
       "    </tr>\n",
       "  </thead>\n",
       "  <tbody>\n",
       "    <tr>\n",
       "      <th>0</th>\n",
       "      <td>2020-02-28</td>\n",
       "      <td>0</td>\n",
       "      <td>2</td>\n",
       "      <td>0</td>\n",
       "      <td>0</td>\n",
       "    </tr>\n",
       "    <tr>\n",
       "      <th>1</th>\n",
       "      <td>2020-02-29</td>\n",
       "      <td>0</td>\n",
       "      <td>2</td>\n",
       "      <td>0</td>\n",
       "      <td>0</td>\n",
       "    </tr>\n",
       "    <tr>\n",
       "      <th>2</th>\n",
       "      <td>2020-03-01</td>\n",
       "      <td>0</td>\n",
       "      <td>2</td>\n",
       "      <td>0</td>\n",
       "      <td>0</td>\n",
       "    </tr>\n",
       "    <tr>\n",
       "      <th>3</th>\n",
       "      <td>2020-03-02</td>\n",
       "      <td>0</td>\n",
       "      <td>2</td>\n",
       "      <td>0</td>\n",
       "      <td>0</td>\n",
       "    </tr>\n",
       "    <tr>\n",
       "      <th>4</th>\n",
       "      <td>2020-03-03</td>\n",
       "      <td>1</td>\n",
       "      <td>2</td>\n",
       "      <td>0</td>\n",
       "      <td>0</td>\n",
       "    </tr>\n",
       "    <tr>\n",
       "      <th>...</th>\n",
       "      <td>...</td>\n",
       "      <td>...</td>\n",
       "      <td>...</td>\n",
       "      <td>...</td>\n",
       "      <td>...</td>\n",
       "    </tr>\n",
       "    <tr>\n",
       "      <th>223</th>\n",
       "      <td>2020-10-08</td>\n",
       "      <td>682604</td>\n",
       "      <td>150376</td>\n",
       "      <td>0</td>\n",
       "      <td>1800</td>\n",
       "    </tr>\n",
       "    <tr>\n",
       "      <th>224</th>\n",
       "      <td>2020-10-09</td>\n",
       "      <td>687123</td>\n",
       "      <td>150376</td>\n",
       "      <td>0</td>\n",
       "      <td>1801</td>\n",
       "    </tr>\n",
       "    <tr>\n",
       "      <th>225</th>\n",
       "      <td>2020-10-10</td>\n",
       "      <td>689377</td>\n",
       "      <td>150376</td>\n",
       "      <td>0</td>\n",
       "      <td>1801</td>\n",
       "    </tr>\n",
       "    <tr>\n",
       "      <th>226</th>\n",
       "      <td>2020-10-11</td>\n",
       "      <td>694214</td>\n",
       "      <td>150376</td>\n",
       "      <td>0</td>\n",
       "      <td>1801</td>\n",
       "    </tr>\n",
       "    <tr>\n",
       "      <th>227</th>\n",
       "      <td>2020-10-12</td>\n",
       "      <td>700826</td>\n",
       "      <td>150376</td>\n",
       "      <td>0</td>\n",
       "      <td>1808</td>\n",
       "    </tr>\n",
       "  </tbody>\n",
       "</table>\n",
       "<p>228 rows × 5 columns</p>\n",
       "</div>"
      ],
      "text/plain": [
       "         Fecha  Mexico   Spain  Sweden  New Zealand\n",
       "0   2020-02-28       0       2       0            0\n",
       "1   2020-02-29       0       2       0            0\n",
       "2   2020-03-01       0       2       0            0\n",
       "3   2020-03-02       0       2       0            0\n",
       "4   2020-03-03       1       2       0            0\n",
       "..         ...     ...     ...     ...          ...\n",
       "223 2020-10-08  682604  150376       0         1800\n",
       "224 2020-10-09  687123  150376       0         1801\n",
       "225 2020-10-10  689377  150376       0         1801\n",
       "226 2020-10-11  694214  150376       0         1801\n",
       "227 2020-10-12  700826  150376       0         1808\n",
       "\n",
       "[228 rows x 5 columns]"
      ]
     },
     "execution_count": 107,
     "metadata": {},
     "output_type": "execute_result"
    }
   ],
   "source": [
    "df_countries_recovered= pd.concat([df_recovered_mex, df_recovered_spain, df_recovered_sweden, df_recovered_nz], axis=1)\n",
    "df_countries_recovered= df_countries_recovered.reset_index(drop=True)\n",
    "df_countries_recovered"
   ]
  },
  {
   "cell_type": "markdown",
   "metadata": {},
   "source": [
    "## Información sobre pruebas para covid-19 por país\n",
    "\n",
    "### Carga de datos: \n",
    "La información de descargó del sitio https://ourworldindata.org/ "
   ]
  },
  {
   "cell_type": "markdown",
   "metadata": {},
   "source": [
    "Con ayuda de __pandas__ se carga la información."
   ]
  },
  {
   "cell_type": "code",
   "execution_count": 109,
   "metadata": {},
   "outputs": [],
   "source": [
    "df_paises= pd.read_csv('paises_covid.csv') "
   ]
  },
  {
   "cell_type": "code",
   "execution_count": 110,
   "metadata": {},
   "outputs": [],
   "source": [
    "df_paises['date']= [dt.datetime.strptime(x, '%Y-%m-%d') for x in df_paises['date']]  #Modificar la fecha(obj) a datetime\n",
    "df_paises.set_index('date', inplace= True)"
   ]
  },
  {
   "cell_type": "markdown",
   "metadata": {},
   "source": [
    "Se seleciona un periodo específico y se eliminan los valores nulos o \"na\""
   ]
  },
  {
   "cell_type": "code",
   "execution_count": 94,
   "metadata": {},
   "outputs": [
    {
     "data": {
      "text/html": [
       "<div>\n",
       "<style scoped>\n",
       "    .dataframe tbody tr th:only-of-type {\n",
       "        vertical-align: middle;\n",
       "    }\n",
       "\n",
       "    .dataframe tbody tr th {\n",
       "        vertical-align: top;\n",
       "    }\n",
       "\n",
       "    .dataframe thead th {\n",
       "        text-align: right;\n",
       "    }\n",
       "</style>\n",
       "<table border=\"1\" class=\"dataframe\">\n",
       "  <thead>\n",
       "    <tr style=\"text-align: right;\">\n",
       "      <th></th>\n",
       "      <th>location</th>\n",
       "      <th>total_cases</th>\n",
       "      <th>total_tests_per_thousand</th>\n",
       "      <th>positive_rate</th>\n",
       "      <th>total_tests</th>\n",
       "      <th>new_deaths_per_million</th>\n",
       "      <th>hospital_beds_per_thousand</th>\n",
       "      <th>total_deaths</th>\n",
       "    </tr>\n",
       "    <tr>\n",
       "      <th>date</th>\n",
       "      <th></th>\n",
       "      <th></th>\n",
       "      <th></th>\n",
       "      <th></th>\n",
       "      <th></th>\n",
       "      <th></th>\n",
       "      <th></th>\n",
       "      <th></th>\n",
       "    </tr>\n",
       "  </thead>\n",
       "  <tbody>\n",
       "    <tr>\n",
       "      <th>2020-04-23</th>\n",
       "      <td>Spain</td>\n",
       "      <td>203649.0</td>\n",
       "      <td>22.148</td>\n",
       "      <td>0.235</td>\n",
       "      <td>1035522.0</td>\n",
       "      <td>9.411</td>\n",
       "      <td>2.97</td>\n",
       "      <td>22157.0</td>\n",
       "    </tr>\n",
       "    <tr>\n",
       "      <th>2020-04-30</th>\n",
       "      <td>Spain</td>\n",
       "      <td>215183.0</td>\n",
       "      <td>28.898</td>\n",
       "      <td>0.037</td>\n",
       "      <td>1351130.0</td>\n",
       "      <td>5.732</td>\n",
       "      <td>2.97</td>\n",
       "      <td>24543.0</td>\n",
       "    </tr>\n",
       "    <tr>\n",
       "      <th>2020-05-07</th>\n",
       "      <td>Spain</td>\n",
       "      <td>222045.0</td>\n",
       "      <td>34.760</td>\n",
       "      <td>0.025</td>\n",
       "      <td>1625211.0</td>\n",
       "      <td>4.556</td>\n",
       "      <td>2.97</td>\n",
       "      <td>26070.0</td>\n",
       "    </tr>\n",
       "    <tr>\n",
       "      <th>2020-05-14</th>\n",
       "      <td>Spain</td>\n",
       "      <td>229540.0</td>\n",
       "      <td>41.053</td>\n",
       "      <td>0.025</td>\n",
       "      <td>1919411.0</td>\n",
       "      <td>4.641</td>\n",
       "      <td>2.97</td>\n",
       "      <td>27321.0</td>\n",
       "    </tr>\n",
       "    <tr>\n",
       "      <th>2020-05-21</th>\n",
       "      <td>Spain</td>\n",
       "      <td>233037.0</td>\n",
       "      <td>47.514</td>\n",
       "      <td>0.012</td>\n",
       "      <td>2221497.0</td>\n",
       "      <td>1.112</td>\n",
       "      <td>2.97</td>\n",
       "      <td>27940.0</td>\n",
       "    </tr>\n",
       "    <tr>\n",
       "      <th>...</th>\n",
       "      <td>...</td>\n",
       "      <td>...</td>\n",
       "      <td>...</td>\n",
       "      <td>...</td>\n",
       "      <td>...</td>\n",
       "      <td>...</td>\n",
       "      <td>...</td>\n",
       "      <td>...</td>\n",
       "    </tr>\n",
       "    <tr>\n",
       "      <th>2020-10-04</th>\n",
       "      <td>New Zealand</td>\n",
       "      <td>1498.0</td>\n",
       "      <td>203.810</td>\n",
       "      <td>0.001</td>\n",
       "      <td>982819.0</td>\n",
       "      <td>0.000</td>\n",
       "      <td>2.61</td>\n",
       "      <td>25.0</td>\n",
       "    </tr>\n",
       "    <tr>\n",
       "      <th>2020-10-05</th>\n",
       "      <td>New Zealand</td>\n",
       "      <td>1499.0</td>\n",
       "      <td>204.395</td>\n",
       "      <td>0.001</td>\n",
       "      <td>985639.0</td>\n",
       "      <td>0.000</td>\n",
       "      <td>2.61</td>\n",
       "      <td>25.0</td>\n",
       "    </tr>\n",
       "    <tr>\n",
       "      <th>2020-10-06</th>\n",
       "      <td>New Zealand</td>\n",
       "      <td>1502.0</td>\n",
       "      <td>205.501</td>\n",
       "      <td>0.001</td>\n",
       "      <td>990973.0</td>\n",
       "      <td>0.000</td>\n",
       "      <td>2.61</td>\n",
       "      <td>25.0</td>\n",
       "    </tr>\n",
       "    <tr>\n",
       "      <th>2020-10-07</th>\n",
       "      <td>New Zealand</td>\n",
       "      <td>1505.0</td>\n",
       "      <td>204.582</td>\n",
       "      <td>0.001</td>\n",
       "      <td>986544.0</td>\n",
       "      <td>0.000</td>\n",
       "      <td>2.61</td>\n",
       "      <td>25.0</td>\n",
       "    </tr>\n",
       "    <tr>\n",
       "      <th>2020-10-08</th>\n",
       "      <td>New Zealand</td>\n",
       "      <td>1508.0</td>\n",
       "      <td>205.743</td>\n",
       "      <td>0.001</td>\n",
       "      <td>992141.0</td>\n",
       "      <td>0.000</td>\n",
       "      <td>2.61</td>\n",
       "      <td>25.0</td>\n",
       "    </tr>\n",
       "  </tbody>\n",
       "</table>\n",
       "<p>443 rows × 8 columns</p>\n",
       "</div>"
      ],
      "text/plain": [
       "               location  total_cases  total_tests_per_thousand  positive_rate  \\\n",
       "date                                                                            \n",
       "2020-04-23        Spain     203649.0                    22.148          0.235   \n",
       "2020-04-30        Spain     215183.0                    28.898          0.037   \n",
       "2020-05-07        Spain     222045.0                    34.760          0.025   \n",
       "2020-05-14        Spain     229540.0                    41.053          0.025   \n",
       "2020-05-21        Spain     233037.0                    47.514          0.012   \n",
       "...                 ...          ...                       ...            ...   \n",
       "2020-10-04  New Zealand       1498.0                   203.810          0.001   \n",
       "2020-10-05  New Zealand       1499.0                   204.395          0.001   \n",
       "2020-10-06  New Zealand       1502.0                   205.501          0.001   \n",
       "2020-10-07  New Zealand       1505.0                   204.582          0.001   \n",
       "2020-10-08  New Zealand       1508.0                   205.743          0.001   \n",
       "\n",
       "            total_tests  new_deaths_per_million  hospital_beds_per_thousand  \\\n",
       "date                                                                          \n",
       "2020-04-23    1035522.0                   9.411                        2.97   \n",
       "2020-04-30    1351130.0                   5.732                        2.97   \n",
       "2020-05-07    1625211.0                   4.556                        2.97   \n",
       "2020-05-14    1919411.0                   4.641                        2.97   \n",
       "2020-05-21    2221497.0                   1.112                        2.97   \n",
       "...                 ...                     ...                         ...   \n",
       "2020-10-04     982819.0                   0.000                        2.61   \n",
       "2020-10-05     985639.0                   0.000                        2.61   \n",
       "2020-10-06     990973.0                   0.000                        2.61   \n",
       "2020-10-07     986544.0                   0.000                        2.61   \n",
       "2020-10-08     992141.0                   0.000                        2.61   \n",
       "\n",
       "            total_deaths  \n",
       "date                      \n",
       "2020-04-23       22157.0  \n",
       "2020-04-30       24543.0  \n",
       "2020-05-07       26070.0  \n",
       "2020-05-14       27321.0  \n",
       "2020-05-21       27940.0  \n",
       "...                  ...  \n",
       "2020-10-04          25.0  \n",
       "2020-10-05          25.0  \n",
       "2020-10-06          25.0  \n",
       "2020-10-07          25.0  \n",
       "2020-10-08          25.0  \n",
       "\n",
       "[443 rows x 8 columns]"
      ]
     },
     "execution_count": 94,
     "metadata": {},
     "output_type": "execute_result"
    }
   ],
   "source": [
    "df_paises= df_paises.loc['2020-02-28': '2020-10-08']\n",
    "df_paises.dropna()"
   ]
  },
  {
   "cell_type": "markdown",
   "metadata": {},
   "source": [
    "### Visualización de datos con Matplotlib\n",
    "\n",
    "Para la representación de los datos se utilizó la libreria __matplotlib__ que permite la visualización de gráficas.\n",
    "\n",
    "A continuación se generaron 6 gráficas con la función __subplots__ donde se muestran a continuación:"
   ]
  },
  {
   "cell_type": "code",
   "execution_count": 114,
   "metadata": {},
   "outputs": [
    {
     "data": {
      "text/plain": [
       "Text(0, 0.5, '%')"
      ]
     },
     "execution_count": 114,
     "metadata": {},
     "output_type": "execute_result"
    },
    {
     "data": {
      "image/png": "[encoded data removed]",
      "text/plain": [
       "<Figure size 1152x864 with 6 Axes>"
      ]
     },
     "metadata": {
      "needs_background": "light"
     },
     "output_type": "display_data"
    }
   ],
   "source": [
    "fig, axes = plt.subplots(nrows=2, ncols=3, figsize= (16,12),  constrained_layout=True) #Funcion Subplots\n",
    "\n",
    "df_confirm.plot(ax=axes[0,0], legend= True, x= 'Fechas',) #Grafica casos confirmados\n",
    "df_countries_deaths.plot(ax=axes[0,1], legend= True, x='Fecha') #Grafica muertos\n",
    "df_countries_recovered.plot(ax=axes[1,0], legend= True, x='Fecha')#Gráfica recuperados\n",
    "df_paises.groupby('location')['total_tests_per_thousand'].plot(ax=axes[0,2], legend= True) #Pruebas por miles de personas por país\n",
    "df_paises.groupby('location')['positive_rate'].plot(ax=axes[1,2], legend= True)#Tasa positiva por covid-19 por país\n",
    "df_mexico.plot.scatter(ax=axes[1,1], x='total_tests', y='total_cases', c='DarkBlue') #Relacion lineal entre los confirmados y las pruebas hechas en México\n",
    "\n",
    "axes[0,0].set_title(\"Total de casos confirmados por país\", fontsize=14)\n",
    "axes[0,0].set_xlabel('Fecha', fontsize= 10)\n",
    "axes[0,0].set_ylabel('Cantidad', fontsize= 10)\n",
    "\n",
    "axes[0,1].set_title(\"Total de muertes por país\",fontsize=14)\n",
    "axes[0,1].set_xlabel('Fecha', fontsize= 10)\n",
    "axes[0,1].set_ylabel('Cantidad', fontsize= 10)\n",
    "\n",
    "axes[0,2].set_title(\"Pruebas diarias de covid-19 \\n por cada mil personas\",fontsize=14)\n",
    "axes[0,2].set_xlabel('Fecha', fontsize= 10)\n",
    "axes[0,2].set_ylabel('Cantidad', fontsize= 10)\n",
    "\n",
    "\n",
    "axes[1,0].set_title(\"Total de casos recuperados\", fontsize=14)\n",
    "axes[1,0].set_xlabel('Fecha', fontsize= 10)\n",
    "axes[1,0].set_ylabel('Cantidad', fontsize= 10)\n",
    "\n",
    "\n",
    "axes[1,1].set_title(\" México:relacion entre cantidad de pruebas \\n y confirmados\", fontsize=14)\n",
    "axes[1,1].set_xlabel('Pruebas', fontsize= 10)\n",
    "axes[1,1].set_ylabel('Casos Confirmados', fontsize= 10)\n",
    "\n",
    "axes[1,2].set_title(\"Proporción de covid-19  \\n por tests que son positivos\", fontsize=14)\n",
    "axes[1,2].set_xlabel('Fecha', fontsize= 10)\n",
    "axes[1,2].set_ylabel('%', fontsize= 10)\n"
   ]
  },
  {
   "cell_type": "markdown",
   "metadata": {},
   "source": [
    "\n",
    "## Impacto sobre la actividad económica\n",
    "\n",
    "### Análisis Exploratorio de Datos (EDA)"
   ]
  },
  {
   "cell_type": "markdown",
   "metadata": {},
   "source": [
    "### Impacto sobre el gasto y el consumo\n",
    "\n"
   ]
  },
  {
   "cell_type": "markdown",
   "metadata": {},
   "source": [
    "A continuacion se muestra informacion sobre impacto que hubo sobre el consumo y el gasto que ha habido en México durante la pandemia. Cabe resaltar que la información se descargó del sitio oficial del __Banco de México__ https://www.banxico.org.mx/ \n",
    "\n",
    "Se muestran datos sobre el crecimiento en el consumo con tarjetas de créditos y de débito.\n",
    "En otro se muestran datos sobre el numero de operaciones con tarjetas. "
   ]
  },
  {
   "cell_type": "code",
   "execution_count": 120,
   "metadata": {},
   "outputs": [
    {
     "data": {
      "text/html": [
       "<div>\n",
       "<style scoped>\n",
       "    .dataframe tbody tr th:only-of-type {\n",
       "        vertical-align: middle;\n",
       "    }\n",
       "\n",
       "    .dataframe tbody tr th {\n",
       "        vertical-align: top;\n",
       "    }\n",
       "\n",
       "    .dataframe thead th {\n",
       "        text-align: right;\n",
       "    }\n",
       "</style>\n",
       "<table border=\"1\" class=\"dataframe\">\n",
       "  <thead>\n",
       "    <tr style=\"text-align: right;\">\n",
       "      <th></th>\n",
       "      <th>Tarjeta_debito</th>\n",
       "      <th>Tarjeta_credito</th>\n",
       "    </tr>\n",
       "  </thead>\n",
       "  <tbody>\n",
       "    <tr>\n",
       "      <th>count</th>\n",
       "      <td>394.000000</td>\n",
       "      <td>394.000000</td>\n",
       "    </tr>\n",
       "    <tr>\n",
       "      <th>mean</th>\n",
       "      <td>0.761421</td>\n",
       "      <td>1.494924</td>\n",
       "    </tr>\n",
       "    <tr>\n",
       "      <th>std</th>\n",
       "      <td>13.317189</td>\n",
       "      <td>18.817490</td>\n",
       "    </tr>\n",
       "    <tr>\n",
       "      <th>min</th>\n",
       "      <td>-53.000000</td>\n",
       "      <td>-46.000000</td>\n",
       "    </tr>\n",
       "    <tr>\n",
       "      <th>25%</th>\n",
       "      <td>-7.000000</td>\n",
       "      <td>-7.000000</td>\n",
       "    </tr>\n",
       "    <tr>\n",
       "      <th>50%</th>\n",
       "      <td>-0.500000</td>\n",
       "      <td>-2.000000</td>\n",
       "    </tr>\n",
       "    <tr>\n",
       "      <th>75%</th>\n",
       "      <td>7.000000</td>\n",
       "      <td>4.000000</td>\n",
       "    </tr>\n",
       "    <tr>\n",
       "      <th>max</th>\n",
       "      <td>84.000000</td>\n",
       "      <td>109.000000</td>\n",
       "    </tr>\n",
       "  </tbody>\n",
       "</table>\n",
       "</div>"
      ],
      "text/plain": [
       "       Tarjeta_debito  Tarjeta_credito\n",
       "count      394.000000       394.000000\n",
       "mean         0.761421         1.494924\n",
       "std         13.317189        18.817490\n",
       "min        -53.000000       -46.000000\n",
       "25%         -7.000000        -7.000000\n",
       "50%         -0.500000        -2.000000\n",
       "75%          7.000000         4.000000\n",
       "max         84.000000       109.000000"
      ]
     },
     "execution_count": 120,
     "metadata": {},
     "output_type": "execute_result"
    }
   ],
   "source": [
    "df_cons= pd.read_csv('monto_tarjetas.csv')#informacion del Banco de México\n",
    "df_tarj= pd.read_csv('num_operaciones_tarjetas.csv')\n",
    "df_cons.describe()# Estadistica básica del crecimiento del consumo en México."
   ]
  },
  {
   "cell_type": "code",
   "execution_count": 121,
   "metadata": {},
   "outputs": [],
   "source": [
    "df_cons['Fecha'] = pd.to_datetime(df_cons['Fecha'], errors='coerce')\n",
    "df_cons= df_cons.set_index('Fecha')\n",
    "\n",
    "df_tarj['Fecha'] = pd.to_datetime(df_tarj['Fecha'], errors='coerce')\n",
    "df_tarj= df_tarj.set_index('Fecha')"
   ]
  },
  {
   "cell_type": "code",
   "execution_count": 122,
   "metadata": {},
   "outputs": [],
   "source": [
    "df_cons= df_cons.resample('M').last() #Remuestreo por mes\n",
    "\n",
    "df_tarj= df_tarj.resample('M').last() #Remuestreo por mes"
   ]
  },
  {
   "cell_type": "code",
   "execution_count": 123,
   "metadata": {},
   "outputs": [],
   "source": [
    "df_tarj['Num_op']= df_tarj['Num_op'].astype(float)#Se cambia el numero de operaciones a flotante\n"
   ]
  },
  {
   "cell_type": "markdown",
   "metadata": {},
   "source": [
    "En la siguiente gráfica se observa que el gasto se ha visto afectado. Esta afectación ocurre por dos vías: oferta y demanda. Por el lado de la oferta, porque muchas cosas que podrían querer consumir los individuos se encuentran cerradas o fuera de servicio por razones sanitarias (restaurantes, entretenimiento, etc.). Por el lado de la demanda, porque la menor actividad económica se traduce a su vez en pérdida o disminución de ingresos, lo que reduce el consumo de muchos tipos de bienes. "
   ]
  },
  {
   "cell_type": "code",
   "execution_count": 125,
   "metadata": {},
   "outputs": [
    {
     "data": {
      "image/png": "[encoded data removed]",
      "text/plain": [
       "<Figure size 720x360 with 1 Axes>"
      ]
     },
     "metadata": {
      "needs_background": "light"
     },
     "output_type": "display_data"
    }
   ],
   "source": [
    "df_cons.plot(figsize=(10,5))\n",
    "plt.title('México: Tasa de crecimiento del consumo durante la pandemia')\n",
    "plt.legend(('Tarjeta Débito', 'Tarjeta Crédito'))\n",
    "plt.ylabel('%')\n",
    "plt.show()"
   ]
  },
  {
   "cell_type": "code",
   "execution_count": 126,
   "metadata": {},
   "outputs": [
    {
     "data": {
      "image/png": "[encoded data removed]",
      "text/plain": [
       "<Figure size 720x360 with 1 Axes>"
      ]
     },
     "metadata": {
      "needs_background": "light"
     },
     "output_type": "display_data"
    }
   ],
   "source": [
    "df_tarj.plot(figsize=(10,5), legend=False)\n",
    "plt.title('México: Numero de operaciones con tarjetas durante la pandemia \\n (millones)')\n",
    "plt.ylabel('Cantidad')\n",
    "plt.show()\n",
    "plt.show()"
   ]
  },
  {
   "cell_type": "markdown",
   "metadata": {},
   "source": [
    "## Impacto sobre el empleo\n",
    "\n",
    "Información del sitio web de la Secretaria del Trabajo y Prevision Social https://www.gob.mx/stps \n",
    "\n",
    "En el periodo que va de marzo a junio de 2020 se perdieron poco más de 1.1 millones de empleos formales, una reducción de 5.4%\n",
    "de todos los empleos formales registrados ante el IMSS. El grueso de la pérdida ocurrió en los meses de abril a mayo, en los cuales se perdieron 900 mil empleos."
   ]
  },
  {
   "cell_type": "code",
   "execution_count": 77,
   "metadata": {},
   "outputs": [],
   "source": [
    "df_wk= pd.read_csv('total_trabajadores.csv') #Cargamos el dataset sobre el empleo "
   ]
  },
  {
   "cell_type": "code",
   "execution_count": 78,
   "metadata": {},
   "outputs": [],
   "source": [
    "df_wk['Fecha'] = pd.to_datetime(df_wk['Fecha'], errors='coerce')\n",
    "df_wk= df_wk.set_index('Fecha')\n"
   ]
  },
  {
   "cell_type": "code",
   "execution_count": 79,
   "metadata": {},
   "outputs": [],
   "source": [
    "df_wk['Trabajadores Permanentes']= df_wk['Trabajadores Permanentes'].astype(float)"
   ]
  },
  {
   "cell_type": "code",
   "execution_count": 80,
   "metadata": {},
   "outputs": [
    {
     "data": {
      "text/html": [
       "<div>\n",
       "<style scoped>\n",
       "    .dataframe tbody tr th:only-of-type {\n",
       "        vertical-align: middle;\n",
       "    }\n",
       "\n",
       "    .dataframe tbody tr th {\n",
       "        vertical-align: top;\n",
       "    }\n",
       "\n",
       "    .dataframe thead th {\n",
       "        text-align: right;\n",
       "    }\n",
       "</style>\n",
       "<table border=\"1\" class=\"dataframe\">\n",
       "  <thead>\n",
       "    <tr style=\"text-align: right;\">\n",
       "      <th></th>\n",
       "      <th>Trabajadores Permanentes</th>\n",
       "      <th>Empleos Perdidos</th>\n",
       "    </tr>\n",
       "    <tr>\n",
       "      <th>Fecha</th>\n",
       "      <th></th>\n",
       "      <th></th>\n",
       "    </tr>\n",
       "  </thead>\n",
       "  <tbody>\n",
       "    <tr>\n",
       "      <th>2019-09-30</th>\n",
       "      <td>20567426.0</td>\n",
       "      <td>NaN</td>\n",
       "    </tr>\n",
       "    <tr>\n",
       "      <th>2019-10-31</th>\n",
       "      <td>20727424.0</td>\n",
       "      <td>159998.0</td>\n",
       "    </tr>\n",
       "    <tr>\n",
       "      <th>2019-11-30</th>\n",
       "      <td>20803652.0</td>\n",
       "      <td>76228.0</td>\n",
       "    </tr>\n",
       "    <tr>\n",
       "      <th>2019-12-31</th>\n",
       "      <td>20421442.0</td>\n",
       "      <td>-382210.0</td>\n",
       "    </tr>\n",
       "    <tr>\n",
       "      <th>2020-01-31</th>\n",
       "      <td>20490397.0</td>\n",
       "      <td>68955.0</td>\n",
       "    </tr>\n",
       "    <tr>\n",
       "      <th>2020-02-29</th>\n",
       "      <td>20613536.0</td>\n",
       "      <td>123139.0</td>\n",
       "    </tr>\n",
       "    <tr>\n",
       "      <th>2020-03-31</th>\n",
       "      <td>20482943.0</td>\n",
       "      <td>-130593.0</td>\n",
       "    </tr>\n",
       "    <tr>\n",
       "      <th>2020-04-30</th>\n",
       "      <td>19927696.0</td>\n",
       "      <td>-555247.0</td>\n",
       "    </tr>\n",
       "    <tr>\n",
       "      <th>2020-05-31</th>\n",
       "      <td>19583170.0</td>\n",
       "      <td>-344526.0</td>\n",
       "    </tr>\n",
       "    <tr>\n",
       "      <th>2020-06-30</th>\n",
       "      <td>19499859.0</td>\n",
       "      <td>-83311.0</td>\n",
       "    </tr>\n",
       "    <tr>\n",
       "      <th>2020-07-31</th>\n",
       "      <td>19495952.0</td>\n",
       "      <td>-3907.0</td>\n",
       "    </tr>\n",
       "    <tr>\n",
       "      <th>2020-08-31</th>\n",
       "      <td>19588342.0</td>\n",
       "      <td>92390.0</td>\n",
       "    </tr>\n",
       "  </tbody>\n",
       "</table>\n",
       "</div>"
      ],
      "text/plain": [
       "            Trabajadores Permanentes  Empleos Perdidos\n",
       "Fecha                                                 \n",
       "2019-09-30                20567426.0               NaN\n",
       "2019-10-31                20727424.0          159998.0\n",
       "2019-11-30                20803652.0           76228.0\n",
       "2019-12-31                20421442.0         -382210.0\n",
       "2020-01-31                20490397.0           68955.0\n",
       "2020-02-29                20613536.0          123139.0\n",
       "2020-03-31                20482943.0         -130593.0\n",
       "2020-04-30                19927696.0         -555247.0\n",
       "2020-05-31                19583170.0         -344526.0\n",
       "2020-06-30                19499859.0          -83311.0\n",
       "2020-07-31                19495952.0           -3907.0\n",
       "2020-08-31                19588342.0           92390.0"
      ]
     },
     "execution_count": 80,
     "metadata": {},
     "output_type": "execute_result"
    }
   ],
   "source": [
    "df_wk['Empleos Perdidos']=df_wk['Trabajadores Permanentes'].diff() #Se calucula la diferencia de los empleos perdidos\n",
    "df_wk"
   ]
  },
  {
   "cell_type": "code",
   "execution_count": 135,
   "metadata": {},
   "outputs": [
    {
     "data": {
      "image/png": "[encoded data removed]",
      "text/plain": [
       "<Figure size 360x360 with 1 Axes>"
      ]
     },
     "metadata": {
      "needs_background": "light"
     },
     "output_type": "display_data"
    }
   ],
   "source": [
    "df_wk['Trabajadores Permanentes'].plot(figsize=(5,5))\n",
    "plt.title('Trabajadores registrados ante el IMSS durante la pandemia \\n (millones)')\n",
    "plt.ylabel('Cantidad')\n",
    "plt.show()\n"
   ]
  },
  {
   "cell_type": "code",
   "execution_count": 136,
   "metadata": {},
   "outputs": [
    {
     "data": {
      "text/plain": [
       "Text(0, 0.5, 'Cantidad')"
      ]
     },
     "execution_count": 136,
     "metadata": {},
     "output_type": "execute_result"
    },
    {
     "data": {
      "image/png": "[encoded data removed]",
      "text/plain": [
       "<Figure size 360x360 with 1 Axes>"
      ]
     },
     "metadata": {
      "needs_background": "light"
     },
     "output_type": "display_data"
    }
   ],
   "source": [
    "df_wk.loc['2019-10-01':'2020-08-01']['Empleos Perdidos'].plot(figsize=(5,5), kind= 'bar', x= ['Fecha'])\n",
    "plt.title('Cantidad de empleos perdidos mes por mes durante la pandemia')\n",
    "plt.ylabel('Cantidad')"
   ]
  },
  {
   "cell_type": "code",
   "execution_count": 53,
   "metadata": {},
   "outputs": [
    {
     "name": "stdout",
     "output_type": "stream",
     "text": [
      "En Julio se registró la menor cantidad de trabajadores registrados antes el IMSS con 19495952 Pero en Abril se registró el máximo despido de trabajadores con 555247\n"
     ]
    }
   ],
   "source": [
    "print(str('En Julio se registró la menor cantidad de trabajadores registrados antes el IMSS con ') + str(df_wk['Trabajadores Permanentes'].min().astype(int))+ str(' Pero en Abril se registró el máximo despido de trabajadores con ')+ str(df_wk['Empleos Perdidos'].min().astype(int)*-1))"
   ]
  },
  {
   "cell_type": "code",
   "execution_count": 54,
   "metadata": {},
   "outputs": [
    {
     "name": "stdout",
     "output_type": "stream",
     "text": [
      "De Marzo a Julio se perdieron 1117584 empleos.\n"
     ]
    }
   ],
   "source": [
    "print(str('De Marzo a Julio se perdieron ') + str(df_wk.loc['2020-03-31':'2020-07-31']['Empleos Perdidos'].sum().astype(int)*-1) + str(' empleos.'))"
   ]
  },
  {
   "cell_type": "markdown",
   "metadata": {},
   "source": [
    "## Inflación\n",
    "\n",
    "La inflación es un fenómeno que se observa en la economía de un país y está relacionado con el aumento desordenado de los precios de la mayor parte de los bienes y servicios. Para medir la inflación, cada mes el INEGI da seguimiento a 235 mil precios en 46 ciudades del país.\n",
    "\n",
    "De acuerdo con un análisis del periódico El Universal la inflación acumulada entre marzo y agosto del 2020, es decir, durante los seis meses de la pandemia por coronavirus en México, fue de 0.91%.\n",
    "La inflación subyacente, considerada un mejor parámetro para medir la trayectoria de los precios porque elimina productos de alta volatilidad, registró una variación en su medición anual del 3.99%.\n"
   ]
  },
  {
   "cell_type": "code",
   "execution_count": 9,
   "metadata": {},
   "outputs": [
    {
     "data": {
      "text/html": [
       "<div>\n",
       "<style scoped>\n",
       "    .dataframe tbody tr th:only-of-type {\n",
       "        vertical-align: middle;\n",
       "    }\n",
       "\n",
       "    .dataframe tbody tr th {\n",
       "        vertical-align: top;\n",
       "    }\n",
       "\n",
       "    .dataframe thead th {\n",
       "        text-align: right;\n",
       "    }\n",
       "</style>\n",
       "<table border=\"1\" class=\"dataframe\">\n",
       "  <thead>\n",
       "    <tr style=\"text-align: right;\">\n",
       "      <th></th>\n",
       "      <th>INPC</th>\n",
       "      <th>Inflacion Subyacente</th>\n",
       "    </tr>\n",
       "  </thead>\n",
       "  <tbody>\n",
       "    <tr>\n",
       "      <th>count</th>\n",
       "      <td>20.000000</td>\n",
       "      <td>20.00000</td>\n",
       "    </tr>\n",
       "    <tr>\n",
       "      <th>mean</th>\n",
       "      <td>0.231000</td>\n",
       "      <td>0.31300</td>\n",
       "    </tr>\n",
       "    <tr>\n",
       "      <th>std</th>\n",
       "      <td>0.405345</td>\n",
       "      <td>0.08157</td>\n",
       "    </tr>\n",
       "    <tr>\n",
       "      <th>min</th>\n",
       "      <td>-1.010000</td>\n",
       "      <td>0.16000</td>\n",
       "    </tr>\n",
       "    <tr>\n",
       "      <th>25%</th>\n",
       "      <td>0.032500</td>\n",
       "      <td>0.25750</td>\n",
       "    </tr>\n",
       "    <tr>\n",
       "      <th>50%</th>\n",
       "      <td>0.380000</td>\n",
       "      <td>0.31000</td>\n",
       "    </tr>\n",
       "    <tr>\n",
       "      <th>75%</th>\n",
       "      <td>0.495000</td>\n",
       "      <td>0.36250</td>\n",
       "    </tr>\n",
       "    <tr>\n",
       "      <th>max</th>\n",
       "      <td>0.810000</td>\n",
       "      <td>0.46000</td>\n",
       "    </tr>\n",
       "  </tbody>\n",
       "</table>\n",
       "</div>"
      ],
      "text/plain": [
       "            INPC  Inflacion Subyacente\n",
       "count  20.000000              20.00000\n",
       "mean    0.231000               0.31300\n",
       "std     0.405345               0.08157\n",
       "min    -1.010000               0.16000\n",
       "25%     0.032500               0.25750\n",
       "50%     0.380000               0.31000\n",
       "75%     0.495000               0.36250\n",
       "max     0.810000               0.46000"
      ]
     },
     "execution_count": 9,
     "metadata": {},
     "output_type": "execute_result"
    }
   ],
   "source": [
    "df_if= pd.read_csv('Inflacion.csv') #información de Banco de México\n",
    "df_if.describe()\n"
   ]
  },
  {
   "cell_type": "code",
   "execution_count": 139,
   "metadata": {},
   "outputs": [],
   "source": [
    "df_if['Fecha'] = pd.to_datetime(df_if['Fecha'], errors='coerce')\n",
    "df_if= df_if.set_index('Fecha')"
   ]
  },
  {
   "cell_type": "code",
   "execution_count": 140,
   "metadata": {},
   "outputs": [],
   "source": [
    "df_if['INPC']= df_if['INPC'].astype(float)"
   ]
  },
  {
   "cell_type": "code",
   "execution_count": 141,
   "metadata": {},
   "outputs": [
    {
     "data": {
      "text/plain": [
       "Text(0, 0.5, '%')"
      ]
     },
     "execution_count": 141,
     "metadata": {},
     "output_type": "execute_result"
    },
    {
     "data": {
      "image/png": "[encoded data removed]",
      "text/plain": [
       "<Figure size 720x360 with 1 Axes>"
      ]
     },
     "metadata": {
      "needs_background": "light"
     },
     "output_type": "display_data"
    }
   ],
   "source": [
    "df_if.plot(figsize=(10,5))\n",
    "plt.title('Tasa de crecimiento del INPC e inflación Subyacente')\n",
    "plt.ylabel('%')"
   ]
  },
  {
   "cell_type": "markdown",
   "metadata": {},
   "source": [
    "## Tipo de cambio\n",
    "El dólar se ofreció el viernes 20 de marzo hasta en 25.11 pesos en bancos, como es el caso de Citibanamex. En tanto, BBVA México lo hizo en 24.77 pesos y Banorte en 24.75 pesos. Como se puede observar el impacto en la economía mexicana empieza en marzo de 2020, todo esto por la situación política y económica internacional; de manera interna, por las medidas sanitarias implementadas."
   ]
  },
  {
   "cell_type": "code",
   "execution_count": 142,
   "metadata": {},
   "outputs": [
    {
     "data": {
      "text/html": [
       "<div>\n",
       "<style scoped>\n",
       "    .dataframe tbody tr th:only-of-type {\n",
       "        vertical-align: middle;\n",
       "    }\n",
       "\n",
       "    .dataframe tbody tr th {\n",
       "        vertical-align: top;\n",
       "    }\n",
       "\n",
       "    .dataframe thead th {\n",
       "        text-align: right;\n",
       "    }\n",
       "</style>\n",
       "<table border=\"1\" class=\"dataframe\">\n",
       "  <thead>\n",
       "    <tr style=\"text-align: right;\">\n",
       "      <th></th>\n",
       "      <th>Fecha</th>\n",
       "      <th>Tipo de cambio</th>\n",
       "    </tr>\n",
       "  </thead>\n",
       "  <tbody>\n",
       "    <tr>\n",
       "      <th>0</th>\n",
       "      <td>02/01/2019</td>\n",
       "      <td>19.5878</td>\n",
       "    </tr>\n",
       "    <tr>\n",
       "      <th>1</th>\n",
       "      <td>03/01/2019</td>\n",
       "      <td>19.6073</td>\n",
       "    </tr>\n",
       "    <tr>\n",
       "      <th>2</th>\n",
       "      <td>04/01/2019</td>\n",
       "      <td>19.4902</td>\n",
       "    </tr>\n",
       "    <tr>\n",
       "      <th>3</th>\n",
       "      <td>07/01/2019</td>\n",
       "      <td>19.3208</td>\n",
       "    </tr>\n",
       "    <tr>\n",
       "      <th>4</th>\n",
       "      <td>08/01/2019</td>\n",
       "      <td>19.3479</td>\n",
       "    </tr>\n",
       "    <tr>\n",
       "      <th>...</th>\n",
       "      <td>...</td>\n",
       "      <td>...</td>\n",
       "    </tr>\n",
       "    <tr>\n",
       "      <th>438</th>\n",
       "      <td>29/09/2020</td>\n",
       "      <td>22.3598</td>\n",
       "    </tr>\n",
       "    <tr>\n",
       "      <th>439</th>\n",
       "      <td>30/09/2020</td>\n",
       "      <td>22.1438</td>\n",
       "    </tr>\n",
       "    <tr>\n",
       "      <th>440</th>\n",
       "      <td>01/10/2020</td>\n",
       "      <td>21.9562</td>\n",
       "    </tr>\n",
       "    <tr>\n",
       "      <th>441</th>\n",
       "      <td>02/10/2020</td>\n",
       "      <td>21.7025</td>\n",
       "    </tr>\n",
       "    <tr>\n",
       "      <th>442</th>\n",
       "      <td>05/10/2020</td>\n",
       "      <td>21.3960</td>\n",
       "    </tr>\n",
       "  </tbody>\n",
       "</table>\n",
       "<p>443 rows × 2 columns</p>\n",
       "</div>"
      ],
      "text/plain": [
       "          Fecha  Tipo de cambio\n",
       "0    02/01/2019         19.5878\n",
       "1    03/01/2019         19.6073\n",
       "2    04/01/2019         19.4902\n",
       "3    07/01/2019         19.3208\n",
       "4    08/01/2019         19.3479\n",
       "..          ...             ...\n",
       "438  29/09/2020         22.3598\n",
       "439  30/09/2020         22.1438\n",
       "440  01/10/2020         21.9562\n",
       "441  02/10/2020         21.7025\n",
       "442  05/10/2020         21.3960\n",
       "\n",
       "[443 rows x 2 columns]"
      ]
     },
     "execution_count": 142,
     "metadata": {},
     "output_type": "execute_result"
    }
   ],
   "source": [
    "df_tc= pd.read_csv('tipo de cambio.csv')#Información del Banco de México\n",
    "df_tc"
   ]
  },
  {
   "cell_type": "code",
   "execution_count": 143,
   "metadata": {},
   "outputs": [],
   "source": [
    "df_tc['Fecha'] = pd.to_datetime(df_tc['Fecha'], errors='coerce')\n",
    "df_tc= df_tc.set_index('Fecha')\n",
    "df_tc= df_tc.loc['02/01/2019':'31/08/2020']"
   ]
  },
  {
   "cell_type": "code",
   "execution_count": 144,
   "metadata": {},
   "outputs": [],
   "source": [
    "df_tc= df_tc.resample('M').max() #Remuestro valores máximos en el mes"
   ]
  },
  {
   "cell_type": "code",
   "execution_count": 147,
   "metadata": {},
   "outputs": [
    {
     "data": {
      "image/png": "[encoded data removed]",
      "text/plain": [
       "<Figure size 720x360 with 1 Axes>"
      ]
     },
     "metadata": {
      "needs_background": "light"
     },
     "output_type": "display_data"
    }
   ],
   "source": [
    "df_tc.plot(figsize=(10,5), legend= False, c='green')\n",
    "plt.title('Tipo de cambio peso-dólar durante la pandemia')\n",
    "plt.ylabel('Pesos por dólar ')\n",
    "plt.show()"
   ]
  },
  {
   "cell_type": "code",
   "execution_count": 99,
   "metadata": {},
   "outputs": [
    {
     "data": {
      "text/html": [
       "<div>\n",
       "<style scoped>\n",
       "    .dataframe tbody tr th:only-of-type {\n",
       "        vertical-align: middle;\n",
       "    }\n",
       "\n",
       "    .dataframe tbody tr th {\n",
       "        vertical-align: top;\n",
       "    }\n",
       "\n",
       "    .dataframe thead th {\n",
       "        text-align: right;\n",
       "    }\n",
       "</style>\n",
       "<table border=\"1\" class=\"dataframe\">\n",
       "  <thead>\n",
       "    <tr style=\"text-align: right;\">\n",
       "      <th></th>\n",
       "      <th>Tipo de cambio</th>\n",
       "    </tr>\n",
       "  </thead>\n",
       "  <tbody>\n",
       "    <tr>\n",
       "      <th>count</th>\n",
       "      <td>19.000000</td>\n",
       "    </tr>\n",
       "    <tr>\n",
       "      <th>mean</th>\n",
       "      <td>21.749663</td>\n",
       "    </tr>\n",
       "    <tr>\n",
       "      <th>std</th>\n",
       "      <td>2.393200</td>\n",
       "    </tr>\n",
       "    <tr>\n",
       "      <th>min</th>\n",
       "      <td>19.535400</td>\n",
       "    </tr>\n",
       "    <tr>\n",
       "      <th>25%</th>\n",
       "      <td>19.701850</td>\n",
       "    </tr>\n",
       "    <tr>\n",
       "      <th>50%</th>\n",
       "      <td>20.098800</td>\n",
       "    </tr>\n",
       "    <tr>\n",
       "      <th>75%</th>\n",
       "      <td>24.189750</td>\n",
       "    </tr>\n",
       "    <tr>\n",
       "      <th>max</th>\n",
       "      <td>25.118500</td>\n",
       "    </tr>\n",
       "  </tbody>\n",
       "</table>\n",
       "</div>"
      ],
      "text/plain": [
       "       Tipo de cambio\n",
       "count       19.000000\n",
       "mean        21.749663\n",
       "std          2.393200\n",
       "min         19.535400\n",
       "25%         19.701850\n",
       "50%         20.098800\n",
       "75%         24.189750\n",
       "max         25.118500"
      ]
     },
     "execution_count": 99,
     "metadata": {},
     "output_type": "execute_result"
    }
   ],
   "source": [
    "df_tc.describe()"
   ]
  },
  {
   "cell_type": "markdown",
   "metadata": {},
   "source": [
    "Pandas permite calcular la tasa de crecimiento. De diciembre de 2019 a enero de 2020 el tipo de cambio incrementó en 25% lo que significa una devaluación del peso mexicano."
   ]
  },
  {
   "cell_type": "code",
   "execution_count": 150,
   "metadata": {},
   "outputs": [
    {
     "data": {
      "text/html": [
       "<div>\n",
       "<style scoped>\n",
       "    .dataframe tbody tr th:only-of-type {\n",
       "        vertical-align: middle;\n",
       "    }\n",
       "\n",
       "    .dataframe tbody tr th {\n",
       "        vertical-align: top;\n",
       "    }\n",
       "\n",
       "    .dataframe thead th {\n",
       "        text-align: right;\n",
       "    }\n",
       "</style>\n",
       "<table border=\"1\" class=\"dataframe\">\n",
       "  <thead>\n",
       "    <tr style=\"text-align: right;\">\n",
       "      <th></th>\n",
       "      <th>Tipo de cambio</th>\n",
       "      <th>Tasa de crecimiento</th>\n",
       "    </tr>\n",
       "    <tr>\n",
       "      <th>Fecha</th>\n",
       "      <th></th>\n",
       "      <th></th>\n",
       "    </tr>\n",
       "  </thead>\n",
       "  <tbody>\n",
       "    <tr>\n",
       "      <th>2019-02-28</th>\n",
       "      <td>20.1253</td>\n",
       "      <td>NaN</td>\n",
       "    </tr>\n",
       "    <tr>\n",
       "      <th>2019-03-31</th>\n",
       "      <td>20.0039</td>\n",
       "      <td>-0.006032</td>\n",
       "    </tr>\n",
       "    <tr>\n",
       "      <th>2019-04-30</th>\n",
       "      <td>19.7806</td>\n",
       "      <td>-0.011163</td>\n",
       "    </tr>\n",
       "    <tr>\n",
       "      <th>2019-05-31</th>\n",
       "      <td>19.6834</td>\n",
       "      <td>-0.004914</td>\n",
       "    </tr>\n",
       "    <tr>\n",
       "      <th>2019-06-30</th>\n",
       "      <td>19.7084</td>\n",
       "      <td>0.001270</td>\n",
       "    </tr>\n",
       "    <tr>\n",
       "      <th>2019-07-31</th>\n",
       "      <td>19.6953</td>\n",
       "      <td>-0.000665</td>\n",
       "    </tr>\n",
       "    <tr>\n",
       "      <th>2019-08-31</th>\n",
       "      <td>20.0988</td>\n",
       "      <td>0.020487</td>\n",
       "    </tr>\n",
       "    <tr>\n",
       "      <th>2019-09-30</th>\n",
       "      <td>19.7345</td>\n",
       "      <td>-0.018125</td>\n",
       "    </tr>\n",
       "    <tr>\n",
       "      <th>2019-10-31</th>\n",
       "      <td>19.5354</td>\n",
       "      <td>-0.010089</td>\n",
       "    </tr>\n",
       "    <tr>\n",
       "      <th>2019-11-30</th>\n",
       "      <td>19.6113</td>\n",
       "      <td>0.003885</td>\n",
       "    </tr>\n",
       "    <tr>\n",
       "      <th>2019-12-31</th>\n",
       "      <td>19.5803</td>\n",
       "      <td>-0.001581</td>\n",
       "    </tr>\n",
       "    <tr>\n",
       "      <th>2020-01-31</th>\n",
       "      <td>24.4918</td>\n",
       "      <td>0.250839</td>\n",
       "    </tr>\n",
       "    <tr>\n",
       "      <th>2020-02-29</th>\n",
       "      <td>24.1087</td>\n",
       "      <td>-0.015642</td>\n",
       "    </tr>\n",
       "    <tr>\n",
       "      <th>2020-03-31</th>\n",
       "      <td>25.1185</td>\n",
       "      <td>0.041885</td>\n",
       "    </tr>\n",
       "    <tr>\n",
       "      <th>2020-04-30</th>\n",
       "      <td>24.8583</td>\n",
       "      <td>-0.010359</td>\n",
       "    </tr>\n",
       "    <tr>\n",
       "      <th>2020-05-31</th>\n",
       "      <td>24.2708</td>\n",
       "      <td>-0.023634</td>\n",
       "    </tr>\n",
       "    <tr>\n",
       "      <th>2020-06-30</th>\n",
       "      <td>24.6895</td>\n",
       "      <td>0.017251</td>\n",
       "    </tr>\n",
       "    <tr>\n",
       "      <th>2020-07-31</th>\n",
       "      <td>24.0563</td>\n",
       "      <td>-0.025647</td>\n",
       "    </tr>\n",
       "    <tr>\n",
       "      <th>2020-08-31</th>\n",
       "      <td>24.0925</td>\n",
       "      <td>0.001505</td>\n",
       "    </tr>\n",
       "  </tbody>\n",
       "</table>\n",
       "</div>"
      ],
      "text/plain": [
       "            Tipo de cambio  Tasa de crecimiento\n",
       "Fecha                                          \n",
       "2019-02-28         20.1253                  NaN\n",
       "2019-03-31         20.0039            -0.006032\n",
       "2019-04-30         19.7806            -0.011163\n",
       "2019-05-31         19.6834            -0.004914\n",
       "2019-06-30         19.7084             0.001270\n",
       "2019-07-31         19.6953            -0.000665\n",
       "2019-08-31         20.0988             0.020487\n",
       "2019-09-30         19.7345            -0.018125\n",
       "2019-10-31         19.5354            -0.010089\n",
       "2019-11-30         19.6113             0.003885\n",
       "2019-12-31         19.5803            -0.001581\n",
       "2020-01-31         24.4918             0.250839\n",
       "2020-02-29         24.1087            -0.015642\n",
       "2020-03-31         25.1185             0.041885\n",
       "2020-04-30         24.8583            -0.010359\n",
       "2020-05-31         24.2708            -0.023634\n",
       "2020-06-30         24.6895             0.017251\n",
       "2020-07-31         24.0563            -0.025647\n",
       "2020-08-31         24.0925             0.001505"
      ]
     },
     "execution_count": 150,
     "metadata": {},
     "output_type": "execute_result"
    }
   ],
   "source": [
    "df_tc['Tasa de crecimiento']= df_tc['Tipo de cambio'].pct_change()\n",
    "df_tc"
   ]
  },
  {
   "cell_type": "markdown",
   "metadata": {},
   "source": [
    "## El impacto económico del COVID-19 en las empresas mexicanas\n",
    "\n",
    "La Encuesta sobre el Impacto Económico Generado por COVID-19 en las Empresas (ECOVID-IE 2020), levantada por el Instituto Nacional de Estadística y Geografía (INEGI) apunta que el 93% de las empresas mexicanas presentó algún tipo de afectación.\n",
    "\n",
    "Mientras que casi el 80% negó haber despedido a empleados, el 91% confirmó reducciones en sus ingresos. Asimismo, el 81% declaró que no redujo el monto total de las remuneraciones y/o prestaciones del personal. Por otro lado, casi tres cuartas partes de las empresas afirmaron que hubo una disminución de la demanda y cancelación de pedidos y casi la mitad reportó una menor disponibilidad de flujo de efectivo.\n",
    "\n",
    "Estos datos sugieren que, de manera general, las empresas mantuvieron sus gastos mientras sus ingresos disminuyeron, derivado de la reducción del consumo por parte de sus clientes. Ante los impactos de la pandemia, casi la mitad de las empresas optó por la implementación de entregas a domicilios y el 30% decidió ofrecer sus productos o servicios por medios digitales."
   ]
  },
  {
   "cell_type": "markdown",
   "metadata": {},
   "source": [
    "## Análisis\n",
    "### Empresas que sufrieron algún tipo de afectación"
   ]
  },
  {
   "cell_type": "code",
   "execution_count": 11,
   "metadata": {},
   "outputs": [
    {
     "data": {
      "text/html": [
       "<div>\n",
       "<style scoped>\n",
       "    .dataframe tbody tr th:only-of-type {\n",
       "        vertical-align: middle;\n",
       "    }\n",
       "\n",
       "    .dataframe tbody tr th {\n",
       "        vertical-align: top;\n",
       "    }\n",
       "\n",
       "    .dataframe thead th {\n",
       "        text-align: right;\n",
       "    }\n",
       "</style>\n",
       "<table border=\"1\" class=\"dataframe\">\n",
       "  <thead>\n",
       "    <tr style=\"text-align: right;\">\n",
       "      <th></th>\n",
       "      <th>DOMINIO_ESTUDIO</th>\n",
       "      <th>C_1</th>\n",
       "      <th>D_1</th>\n",
       "      <th>E_1</th>\n",
       "      <th>F_1</th>\n",
       "      <th>G_1</th>\n",
       "      <th>H_1</th>\n",
       "      <th>I_1</th>\n",
       "      <th>J_1</th>\n",
       "      <th>K_1</th>\n",
       "      <th>...</th>\n",
       "      <th>F_11</th>\n",
       "      <th>G_11</th>\n",
       "      <th>H_11</th>\n",
       "      <th>C_12</th>\n",
       "      <th>D_12</th>\n",
       "      <th>E_12</th>\n",
       "      <th>F_12</th>\n",
       "      <th>G_12</th>\n",
       "      <th>H_12</th>\n",
       "      <th>ESTATUS</th>\n",
       "    </tr>\n",
       "  </thead>\n",
       "  <tbody>\n",
       "    <tr>\n",
       "      <th>0</th>\n",
       "      <td>total</td>\n",
       "      <td>1873564.0</td>\n",
       "      <td>1.659435e+06</td>\n",
       "      <td>618946.384984</td>\n",
       "      <td>1.430425e+06</td>\n",
       "      <td>1.085076e+06</td>\n",
       "      <td>1.387084e+06</td>\n",
       "      <td>428325.566998</td>\n",
       "      <td>895475.867688</td>\n",
       "      <td>44948.887573</td>\n",
       "      <td>...</td>\n",
       "      <td>431966.937733</td>\n",
       "      <td>31.384124</td>\n",
       "      <td>767129.997490</td>\n",
       "      <td>1873564.0</td>\n",
       "      <td>78966.336276</td>\n",
       "      <td>24.409161</td>\n",
       "      <td>1.329839e+06</td>\n",
       "      <td>51.174524</td>\n",
       "      <td>464758.880617</td>\n",
       "      <td>Cifras Definitivas</td>\n",
       "    </tr>\n",
       "    <tr>\n",
       "      <th>1</th>\n",
       "      <td>esenciales</td>\n",
       "      <td>926502.0</td>\n",
       "      <td>8.323134e+05</td>\n",
       "      <td>318863.973777</td>\n",
       "      <td>7.329009e+05</td>\n",
       "      <td>5.586774e+05</td>\n",
       "      <td>7.171024e+05</td>\n",
       "      <td>217196.268960</td>\n",
       "      <td>470558.178885</td>\n",
       "      <td>15485.492474</td>\n",
       "      <td>...</td>\n",
       "      <td>192701.049826</td>\n",
       "      <td>29.454451</td>\n",
       "      <td>394638.520298</td>\n",
       "      <td>926502.0</td>\n",
       "      <td>42039.688459</td>\n",
       "      <td>22.916971</td>\n",
       "      <td>6.345526e+05</td>\n",
       "      <td>50.149958</td>\n",
       "      <td>249909.694945</td>\n",
       "      <td>Cifras Definitivas</td>\n",
       "    </tr>\n",
       "    <tr>\n",
       "      <th>2</th>\n",
       "      <td>no_esenciales</td>\n",
       "      <td>947062.0</td>\n",
       "      <td>8.271213e+05</td>\n",
       "      <td>300082.411207</td>\n",
       "      <td>6.975244e+05</td>\n",
       "      <td>5.263982e+05</td>\n",
       "      <td>6.699819e+05</td>\n",
       "      <td>211129.298038</td>\n",
       "      <td>424917.688803</td>\n",
       "      <td>29463.395098</td>\n",
       "      <td>...</td>\n",
       "      <td>239265.887907</td>\n",
       "      <td>32.938252</td>\n",
       "      <td>372491.477192</td>\n",
       "      <td>947062.0</td>\n",
       "      <td>36926.647817</td>\n",
       "      <td>26.107967</td>\n",
       "      <td>6.952862e+05</td>\n",
       "      <td>52.109593</td>\n",
       "      <td>214849.185672</td>\n",
       "      <td>Cifras Definitivas</td>\n",
       "    </tr>\n",
       "    <tr>\n",
       "      <th>3</th>\n",
       "      <td>grandes</td>\n",
       "      <td>16893.0</td>\n",
       "      <td>1.673828e+04</td>\n",
       "      <td>14422.273138</td>\n",
       "      <td>1.521172e+04</td>\n",
       "      <td>1.451588e+04</td>\n",
       "      <td>1.481255e+04</td>\n",
       "      <td>14647.918212</td>\n",
       "      <td>14446.874193</td>\n",
       "      <td>1838.981138</td>\n",
       "      <td>...</td>\n",
       "      <td>4622.069827</td>\n",
       "      <td>28.539390</td>\n",
       "      <td>7676.279752</td>\n",
       "      <td>16893.0</td>\n",
       "      <td>431.673007</td>\n",
       "      <td>29.898746</td>\n",
       "      <td>1.275572e+04</td>\n",
       "      <td>40.805382</td>\n",
       "      <td>3705.604643</td>\n",
       "      <td>Cifras Definitivas</td>\n",
       "    </tr>\n",
       "    <tr>\n",
       "      <th>4</th>\n",
       "      <td>med_y_peq</td>\n",
       "      <td>128261.0</td>\n",
       "      <td>1.177415e+05</td>\n",
       "      <td>57297.939828</td>\n",
       "      <td>1.062211e+05</td>\n",
       "      <td>8.303089e+04</td>\n",
       "      <td>1.008018e+05</td>\n",
       "      <td>53985.263035</td>\n",
       "      <td>75730.062630</td>\n",
       "      <td>4711.130245</td>\n",
       "      <td>...</td>\n",
       "      <td>31474.071562</td>\n",
       "      <td>31.185577</td>\n",
       "      <td>54705.189967</td>\n",
       "      <td>128261.0</td>\n",
       "      <td>4559.019959</td>\n",
       "      <td>25.573832</td>\n",
       "      <td>9.399509e+04</td>\n",
       "      <td>47.514437</td>\n",
       "      <td>29706.893972</td>\n",
       "      <td>Cifras Definitivas</td>\n",
       "    </tr>\n",
       "    <tr>\n",
       "      <th>5</th>\n",
       "      <td>micros</td>\n",
       "      <td>1728410.0</td>\n",
       "      <td>1.524955e+06</td>\n",
       "      <td>547226.172018</td>\n",
       "      <td>1.308992e+06</td>\n",
       "      <td>9.875289e+05</td>\n",
       "      <td>1.271470e+06</td>\n",
       "      <td>359692.385751</td>\n",
       "      <td>805298.930865</td>\n",
       "      <td>38398.776189</td>\n",
       "      <td>...</td>\n",
       "      <td>395870.796344</td>\n",
       "      <td>31.433124</td>\n",
       "      <td>704748.527771</td>\n",
       "      <td>1728410.0</td>\n",
       "      <td>73975.643309</td>\n",
       "      <td>24.305350</td>\n",
       "      <td>1.223088e+06</td>\n",
       "      <td>51.563944</td>\n",
       "      <td>431346.382001</td>\n",
       "      <td>Cifras Definitivas</td>\n",
       "    </tr>\n",
       "  </tbody>\n",
       "</table>\n",
       "<p>6 rows × 109 columns</p>\n",
       "</div>"
      ],
      "text/plain": [
       "  DOMINIO_ESTUDIO        C_1           D_1            E_1           F_1  \\\n",
       "0           total  1873564.0  1.659435e+06  618946.384984  1.430425e+06   \n",
       "1      esenciales   926502.0  8.323134e+05  318863.973777  7.329009e+05   \n",
       "2   no_esenciales   947062.0  8.271213e+05  300082.411207  6.975244e+05   \n",
       "3         grandes    16893.0  1.673828e+04   14422.273138  1.521172e+04   \n",
       "4       med_y_peq   128261.0  1.177415e+05   57297.939828  1.062211e+05   \n",
       "5          micros  1728410.0  1.524955e+06  547226.172018  1.308992e+06   \n",
       "\n",
       "            G_1           H_1            I_1            J_1           K_1  \\\n",
       "0  1.085076e+06  1.387084e+06  428325.566998  895475.867688  44948.887573   \n",
       "1  5.586774e+05  7.171024e+05  217196.268960  470558.178885  15485.492474   \n",
       "2  5.263982e+05  6.699819e+05  211129.298038  424917.688803  29463.395098   \n",
       "3  1.451588e+04  1.481255e+04   14647.918212   14446.874193   1838.981138   \n",
       "4  8.303089e+04  1.008018e+05   53985.263035   75730.062630   4711.130245   \n",
       "5  9.875289e+05  1.271470e+06  359692.385751  805298.930865  38398.776189   \n",
       "\n",
       "   ...           F_11       G_11           H_11       C_12          D_12  \\\n",
       "0  ...  431966.937733  31.384124  767129.997490  1873564.0  78966.336276   \n",
       "1  ...  192701.049826  29.454451  394638.520298   926502.0  42039.688459   \n",
       "2  ...  239265.887907  32.938252  372491.477192   947062.0  36926.647817   \n",
       "3  ...    4622.069827  28.539390    7676.279752    16893.0    431.673007   \n",
       "4  ...   31474.071562  31.185577   54705.189967   128261.0   4559.019959   \n",
       "5  ...  395870.796344  31.433124  704748.527771  1728410.0  73975.643309   \n",
       "\n",
       "        E_12          F_12       G_12           H_12             ESTATUS  \n",
       "0  24.409161  1.329839e+06  51.174524  464758.880617  Cifras Definitivas  \n",
       "1  22.916971  6.345526e+05  50.149958  249909.694945  Cifras Definitivas  \n",
       "2  26.107967  6.952862e+05  52.109593  214849.185672  Cifras Definitivas  \n",
       "3  29.898746  1.275572e+04  40.805382    3705.604643  Cifras Definitivas  \n",
       "4  25.573832  9.399509e+04  47.514437   29706.893972  Cifras Definitivas  \n",
       "5  24.305350  1.223088e+06  51.563944  431346.382001  Cifras Definitivas  \n",
       "\n",
       "[6 rows x 109 columns]"
      ]
     },
     "execution_count": 11,
     "metadata": {},
     "output_type": "execute_result"
    }
   ],
   "source": [
    "df_encuesta= pd.read_csv('tr_ecovid_ie_2020.csv')\n",
    "df_encuesta"
   ]
  },
  {
   "cell_type": "code",
   "execution_count": 49,
   "metadata": {},
   "outputs": [
    {
     "name": "stdout",
     "output_type": "stream",
     "text": [
      "Las microempresas representan el 92% del total de las empresas que hay en México.\n",
      "Las pequeñas y medianas representan el 7% del total.\n",
      "Las grandes empresas representan el 1% del total.\n"
     ]
    }
   ],
   "source": [
    "#Composición de las empresas mexicanas por tamaño\n",
    "micros= round((1728410/1873564)*100)\n",
    "med_peq= round((128261/1873564)*100)\n",
    "grandes= round((16893/1873564)*100)\n",
    "print(\"Las microempresas representan el \"+ (str(micros))+\"%\" + \" del total de las empresas que hay en México.\")\n",
    "print(\"Las pequeñas y medianas representan el \"+ (str(med_peq))+\"%\" + \" del total.\")\n",
    "print(\"Las grandes empresas representan el \"+ (str(grandes))+\"%\" + \" del total.\")"
   ]
  },
  {
   "cell_type": "code",
   "execution_count": 47,
   "metadata": {},
   "outputs": [
    {
     "name": "stdout",
     "output_type": "stream",
     "text": [
      "La Encuesta sobre el Impacto Económico Generado por COVID-19 en las Empresas (ECOVID-IE 2020),levantada por el Instituto Nacional de Estadística y Geografía (INEGI) apunta que el [[93.19]]% sufrió un tipo de afectación.\n"
     ]
    }
   ],
   "source": [
    "#Empresas que sufrieron algún tipo de afectación\n",
    "afectacion= np.array(df_encuesta.iloc[[0], [32]])\n",
    "total= np.array(df_encuesta.iloc[[0], [1]])\n",
    "eta= np.round((afectacion/total)*100, 2)\n",
    "print(str(\"La Encuesta sobre el Impacto Económico Generado por COVID-19 en las Empresas (ECOVID-IE 2020),levantada por el Instituto Nacional de Estadística y Geografía (INEGI) apunta que el \")+ str(eta)+ \"%\" + \" sufrió un tipo de afectación.\")"
   ]
  },
  {
   "cell_type": "markdown",
   "metadata": {},
   "source": [
    "### Instrumentación de paros técnicos o cierres temporales"
   ]
  },
  {
   "cell_type": "code",
   "execution_count": 51,
   "metadata": {},
   "outputs": [
    {
     "data": {
      "text/html": [
       "<div>\n",
       "<style scoped>\n",
       "    .dataframe tbody tr th:only-of-type {\n",
       "        vertical-align: middle;\n",
       "    }\n",
       "\n",
       "    .dataframe tbody tr th {\n",
       "        vertical-align: top;\n",
       "    }\n",
       "\n",
       "    .dataframe thead th {\n",
       "        text-align: right;\n",
       "    }\n",
       "</style>\n",
       "<table border=\"1\" class=\"dataframe\">\n",
       "  <thead>\n",
       "    <tr style=\"text-align: right;\">\n",
       "      <th></th>\n",
       "      <th>DOMINIO_ESTUDIO</th>\n",
       "      <th>C_1</th>\n",
       "      <th>D_1</th>\n",
       "      <th>E_1</th>\n",
       "      <th>F_1</th>\n",
       "      <th>G_1</th>\n",
       "      <th>H_1</th>\n",
       "      <th>I_1</th>\n",
       "      <th>J_1</th>\n",
       "      <th>K_1</th>\n",
       "      <th>...</th>\n",
       "      <th>J_7</th>\n",
       "      <th>K_7</th>\n",
       "      <th>L_7</th>\n",
       "      <th>M_7</th>\n",
       "      <th>N_7</th>\n",
       "      <th>O_7</th>\n",
       "      <th>P_7</th>\n",
       "      <th>Q_7</th>\n",
       "      <th>R_7</th>\n",
       "      <th>ESTATUS</th>\n",
       "    </tr>\n",
       "  </thead>\n",
       "  <tbody>\n",
       "    <tr>\n",
       "      <th>0</th>\n",
       "      <td>Instrumentación de paros técnicos o cierres te...</td>\n",
       "      <td>1.873564e+06</td>\n",
       "      <td>1.127886e+06</td>\n",
       "      <td>367323.477393</td>\n",
       "      <td>59.502896</td>\n",
       "      <td>224295.552400</td>\n",
       "      <td>507556.917736</td>\n",
       "      <td>333922.833942</td>\n",
       "      <td>381560.324214</td>\n",
       "      <td>95394.057892</td>\n",
       "      <td>...</td>\n",
       "      <td>35.927561</td>\n",
       "      <td>431966.937733</td>\n",
       "      <td>31.384124</td>\n",
       "      <td>767129.997490</td>\n",
       "      <td>78966.336276</td>\n",
       "      <td>24.409161</td>\n",
       "      <td>1.329839e+06</td>\n",
       "      <td>51.174524</td>\n",
       "      <td>464758.880617</td>\n",
       "      <td>Cifras Definitivas</td>\n",
       "    </tr>\n",
       "    <tr>\n",
       "      <th>1</th>\n",
       "      <td>Instrumentación de paros técnicos o cierres te...</td>\n",
       "      <td>1.115983e+06</td>\n",
       "      <td>6.649126e+05</td>\n",
       "      <td>239115.246570</td>\n",
       "      <td>63.315407</td>\n",
       "      <td>143854.244013</td>\n",
       "      <td>280741.077640</td>\n",
       "      <td>217953.444127</td>\n",
       "      <td>239345.135659</td>\n",
       "      <td>54152.074642</td>\n",
       "      <td>...</td>\n",
       "      <td>38.570339</td>\n",
       "      <td>306987.696977</td>\n",
       "      <td>32.781488</td>\n",
       "      <td>419722.998777</td>\n",
       "      <td>43910.199255</td>\n",
       "      <td>25.252062</td>\n",
       "      <td>8.357779e+05</td>\n",
       "      <td>53.682202</td>\n",
       "      <td>236294.695441</td>\n",
       "      <td>Cifras Definitivas</td>\n",
       "    </tr>\n",
       "    <tr>\n",
       "      <th>2</th>\n",
       "      <td>Instrumentación de paros técnicos o cierres te...</td>\n",
       "      <td>7.575812e+05</td>\n",
       "      <td>4.629735e+05</td>\n",
       "      <td>128208.230823</td>\n",
       "      <td>52.392358</td>\n",
       "      <td>80441.308387</td>\n",
       "      <td>226815.840096</td>\n",
       "      <td>115969.389815</td>\n",
       "      <td>142215.188556</td>\n",
       "      <td>41241.983251</td>\n",
       "      <td>...</td>\n",
       "      <td>32.320346</td>\n",
       "      <td>124979.240756</td>\n",
       "      <td>27.951765</td>\n",
       "      <td>347406.998713</td>\n",
       "      <td>35056.137020</td>\n",
       "      <td>23.353370</td>\n",
       "      <td>4.940608e+05</td>\n",
       "      <td>46.932410</td>\n",
       "      <td>228464.185176</td>\n",
       "      <td>Cifras Definitivas</td>\n",
       "    </tr>\n",
       "  </tbody>\n",
       "</table>\n",
       "<p>3 rows × 57 columns</p>\n",
       "</div>"
      ],
      "text/plain": [
       "                                     DOMINIO_ESTUDIO           C_1  \\\n",
       "0  Instrumentación de paros técnicos o cierres te...  1.873564e+06   \n",
       "1  Instrumentación de paros técnicos o cierres te...  1.115983e+06   \n",
       "2  Instrumentación de paros técnicos o cierres te...  7.575812e+05   \n",
       "\n",
       "            D_1            E_1        F_1            G_1            H_1  \\\n",
       "0  1.127886e+06  367323.477393  59.502896  224295.552400  507556.917736   \n",
       "1  6.649126e+05  239115.246570  63.315407  143854.244013  280741.077640   \n",
       "2  4.629735e+05  128208.230823  52.392358   80441.308387  226815.840096   \n",
       "\n",
       "             I_1            J_1           K_1  ...        J_7            K_7  \\\n",
       "0  333922.833942  381560.324214  95394.057892  ...  35.927561  431966.937733   \n",
       "1  217953.444127  239345.135659  54152.074642  ...  38.570339  306987.696977   \n",
       "2  115969.389815  142215.188556  41241.983251  ...  32.320346  124979.240756   \n",
       "\n",
       "         L_7            M_7           N_7        O_7           P_7        Q_7  \\\n",
       "0  31.384124  767129.997490  78966.336276  24.409161  1.329839e+06  51.174524   \n",
       "1  32.781488  419722.998777  43910.199255  25.252062  8.357779e+05  53.682202   \n",
       "2  27.951765  347406.998713  35056.137020  23.353370  4.940608e+05  46.932410   \n",
       "\n",
       "             R_7             ESTATUS  \n",
       "0  464758.880617  Cifras Definitivas  \n",
       "1  236294.695441  Cifras Definitivas  \n",
       "2  228464.185176  Cifras Definitivas  \n",
       "\n",
       "[3 rows x 57 columns]"
      ]
     },
     "execution_count": 51,
     "metadata": {},
     "output_type": "execute_result"
    }
   ],
   "source": [
    "df_paro= pd.read_csv('tr_ecovid_instrum_paros_tecnicos_2020.csv')\n",
    "df_dias= pd.read_csv('tr_ecovid_dias_nat_vig_paro_2020.csv')\n",
    "df_paro"
   ]
  },
  {
   "cell_type": "code",
   "execution_count": 54,
   "metadata": {},
   "outputs": [
    {
     "name": "stdout",
     "output_type": "stream",
     "text": [
      "[[78.86]]\n",
      "[[90.61]]\n",
      "[[67.64]]\n",
      "[[42.68]]\n"
     ]
    }
   ],
   "source": [
    "paro_si= np.array(df_paro.iloc[[1], [1]])\n",
    "reduccion= np.array(df_encuesta.iloc[[0], [35]]) #Reducción de trabajadores_no\n",
    "rdt= np.round((reduccion/total)*100, 2)\n",
    "print(rdt)\n",
    "\n",
    "disminucion= np.array(df_paro.iloc[[1],[23]])#Empresas que vieron reduccion en sus ingresos\n",
    "n_disminucion= np.round((disminucion/paro_si)*100, 2)\n",
    "print(n_disminucion)\n",
    "\n",
    "demanda= np.array(df_encuesta.iloc[[0], [45]]) #Empresas que vieron una disminucion en la demanda y cancelación de pedidos\n",
    "n_demanda= np.round((demanda/total)*100, 2)\n",
    "print(n_demanda)\n",
    "flujo_efectivo= np.array(df_encuesta.iloc[[0], [48]]) #Empresas que reportaron una menor disponibilidad de flujo de efectivo.\n",
    "n_flujo_efectivo= np.round((flujo_efectivo/total)* 100, 2)\n",
    "print(n_flujo_efectivo)\n",
    "\n"
   ]
  },
  {
   "cell_type": "markdown",
   "metadata": {},
   "source": [
    "## Implementaciones y Apoyos\n",
    "\n",
    "La ECOVID-IE 2020 también apunta que únicamente el 7.83% de las empresas recibió algún tipo de apoyo, en su mayoría de carácter gubernamental; las razones por las cuales las empresas no han recibido apoyos durante la contingencia se deben mayormente a la falta de información en cuanto a la disponibilidad de estos y de los procedimientos de solicitud. En la siguiente gráfica se muestran detalladamente las causas por las cuales las empresas no han recibido el apoyo económico gubernamental durante la pandemia."
   ]
  },
  {
   "cell_type": "code",
   "execution_count": 56,
   "metadata": {},
   "outputs": [],
   "source": [
    "entregas_domicilio= np.array(df_paro.iloc[[0], [6]]) #Numero de empresas que optó por la implementación de entregas a domicilio\n",
    "n_entregas_domicilio= np.round((entregas_domicilio/total)*100,2)\n",
    "\n",
    "entrega_digital= np.array(df_paro.iloc[[0], [7]])# Numero de empresas que decidió ofrecer sus productos o servicios por medios digitales\n",
    "n_entregas_digitales= np.around((entrega_digital/total)*100,2)\n",
    "\n",
    "apoyo= np.array(df_encuesta.iloc[[0], [60]]) #Total de empresas que recibieron algun tipo de apoyo\n",
    "n_apoyo= np.around((apoyo/total)*100,2)\n"
   ]
  },
  {
   "cell_type": "markdown",
   "metadata": {},
   "source": [
    "### Razones por las que no se recibieron apoyos durante la pandemia"
   ]
  },
  {
   "cell_type": "code",
   "execution_count": 58,
   "metadata": {},
   "outputs": [],
   "source": [
    "no_conocimiento= np.array(df_encuesta.iloc[[0],[66]])#No se tenia conocimiento\n",
    "n_no_conocimiento= np.round((no_conocimiento/total)*100,2)\n",
    "sin_conocimiento= float(n_no_conocimiento)\n",
    "\n",
    "complicado= np.array(df_encuesta.iloc[[0],[67]]) #Solicitar es demasiado complicado\n",
    "n_complicado= np.round((complicado/total)*100,2)\n",
    "demasiado_complicado= float(n_complicado)\n",
    "\n",
    "requisitos= np.array(df_encuesta.iloc[[0],[68]]) #No se cumplen con los requisitos\n",
    "n_requisitos= np.round((requisitos/total)*100,2)\n",
    "no_requisitos= float(n_requisitos)\n",
    "\n",
    "no_apoyo= np.array(df_encuesta.iloc[[0],[69]]) #Se solicitó pero no se recibió el apoyo\n",
    "n_no_apoyo= np.round((no_apoyo/total)*100,2)\n",
    "sin_apoyo= float(n_no_apoyo)\n",
    "\n",
    "no_necesario= np.array(df_encuesta.iloc[[0], [70]])#No ha sido necesario solicitar apoyo\n",
    "n_no_necesario= np.around((no_necesario/total)*100,2)\n",
    "sin_necesidad= float(n_no_necesario)\n",
    "\n",
    "otra= np.array(df_encuesta.iloc[[0], [71]]) #Otra\n",
    "n_otra=  np.around((otra/total)*100,2)\n",
    "otras= float(n_otra)"
   ]
  },
  {
   "cell_type": "markdown",
   "metadata": {},
   "source": [
    "### Gráfica de pastel"
   ]
  },
  {
   "cell_type": "code",
   "execution_count": 60,
   "metadata": {},
   "outputs": [
    {
     "data": {
      "image/png": "[encoded data removed]",
      "text/plain": [
       "<Figure size 432x288 with 1 Axes>"
      ]
     },
     "metadata": {},
     "output_type": "display_data"
    }
   ],
   "source": [
    "labels = 'No se tenia conocimiento', 'Solicitar es demasiado complicado', 'No se cumplen con los requisitos','Se solicitó pero no se recibió el apoyo', 'No ha sido necesario solicitar el apoyo', 'Otra'\n",
    "data = [sin_conocimiento, demasiado_complicado, no_requisitos, sin_apoyo, sin_necesidad, otras]\n",
    " \n",
    "fig1, ax1 = plt.subplots()\n",
    "g= ax1.pie(data)\n",
    "angle = -180 * data[0]\n",
    "ax1.pie(data, explode=None, labels=labels, autopct='%.0f%%', shadow= True, startangle=angle, \n",
    "        colors=['SteelBlue','Yellow', 'Red','Green','Orange','Purple'])\n",
    "ax1.set(title='Causas por las cuales las empresas no han recibido apoyo durante la pandemia')\n",
    "\n",
    "plt.show()"
   ]
  },
  {
   "cell_type": "markdown",
   "metadata": {},
   "source": [
    "## Regresión lineal\n",
    "\n",
    "Con todas las afectaciones que ha tenido la economía mexicana se realizará una predicción del crecimiento del Producto Interno Bruto (PIB), pero de manera mensual por lo que se tomó el Indicador Global de la Actividad Económica (IGAE) y Indicador Mensual de la Formación Bruta de Capital Fijo (IMFBCF). De acuerdo con el INEGI, el IMFBCF  permite un amplio conocimiento sobre el comportamiento de la inversión en el corto plazo, misma que está integrada por los bienes utilizados en el proceso productivo durante más de un año y que están sujetos a derechos de propiedad. Este indicador muestra cómo una gran parte del nuevo valor agregado bruto en la economía se invierte, en lugar de ser consumido.\n",
    "\n",
    "Para poder realizar la regresión se utilizó __scikit-learn__"
   ]
  },
  {
   "cell_type": "code",
   "execution_count": 61,
   "metadata": {},
   "outputs": [],
   "source": [
    "df_ig= pd.read_csv('igae_var_anual2.csv')\n"
   ]
  },
  {
   "cell_type": "code",
   "execution_count": 62,
   "metadata": {},
   "outputs": [
    {
     "data": {
      "text/html": [
       "<div>\n",
       "<style scoped>\n",
       "    .dataframe tbody tr th:only-of-type {\n",
       "        vertical-align: middle;\n",
       "    }\n",
       "\n",
       "    .dataframe tbody tr th {\n",
       "        vertical-align: top;\n",
       "    }\n",
       "\n",
       "    .dataframe thead th {\n",
       "        text-align: right;\n",
       "    }\n",
       "</style>\n",
       "<table border=\"1\" class=\"dataframe\">\n",
       "  <thead>\n",
       "    <tr style=\"text-align: right;\">\n",
       "      <th></th>\n",
       "      <th>Fecha</th>\n",
       "      <th>Inversion Fija Bruta</th>\n",
       "      <th>Indicador Global de la Actividad Económica</th>\n",
       "    </tr>\n",
       "  </thead>\n",
       "  <tbody>\n",
       "    <tr>\n",
       "      <th>1</th>\n",
       "      <td>31/01/2018</td>\n",
       "      <td>1.1</td>\n",
       "      <td>1.3</td>\n",
       "    </tr>\n",
       "    <tr>\n",
       "      <th>2</th>\n",
       "      <td>28/02/2018</td>\n",
       "      <td>4.3</td>\n",
       "      <td>2.2</td>\n",
       "    </tr>\n",
       "    <tr>\n",
       "      <th>3</th>\n",
       "      <td>31/03/2018</td>\n",
       "      <td>2.8</td>\n",
       "      <td>2.8</td>\n",
       "    </tr>\n",
       "    <tr>\n",
       "      <th>4</th>\n",
       "      <td>30/04/2018</td>\n",
       "      <td>5.3</td>\n",
       "      <td>2.1</td>\n",
       "    </tr>\n",
       "    <tr>\n",
       "      <th>5</th>\n",
       "      <td>31/05/2018</td>\n",
       "      <td>3.7</td>\n",
       "      <td>3.1</td>\n",
       "    </tr>\n",
       "    <tr>\n",
       "      <th>6</th>\n",
       "      <td>30/06/2018</td>\n",
       "      <td>2.3</td>\n",
       "      <td>2.0</td>\n",
       "    </tr>\n",
       "    <tr>\n",
       "      <th>7</th>\n",
       "      <td>31/07/2018</td>\n",
       "      <td>4.1</td>\n",
       "      <td>3.1</td>\n",
       "    </tr>\n",
       "    <tr>\n",
       "      <th>8</th>\n",
       "      <td>31/08/2018</td>\n",
       "      <td>-1.8</td>\n",
       "      <td>2.3</td>\n",
       "    </tr>\n",
       "    <tr>\n",
       "      <th>9</th>\n",
       "      <td>30/09/2018</td>\n",
       "      <td>0.3</td>\n",
       "      <td>3.3</td>\n",
       "    </tr>\n",
       "    <tr>\n",
       "      <th>10</th>\n",
       "      <td>31/10/2018</td>\n",
       "      <td>1.9</td>\n",
       "      <td>1.8</td>\n",
       "    </tr>\n",
       "    <tr>\n",
       "      <th>11</th>\n",
       "      <td>30/11/2018</td>\n",
       "      <td>-3.3</td>\n",
       "      <td>1.2</td>\n",
       "    </tr>\n",
       "    <tr>\n",
       "      <th>12</th>\n",
       "      <td>31/12/2018</td>\n",
       "      <td>-7.8</td>\n",
       "      <td>-0.5</td>\n",
       "    </tr>\n",
       "    <tr>\n",
       "      <th>13</th>\n",
       "      <td>31/01/2019</td>\n",
       "      <td>0.6</td>\n",
       "      <td>0.9</td>\n",
       "    </tr>\n",
       "    <tr>\n",
       "      <th>14</th>\n",
       "      <td>28/02/2019</td>\n",
       "      <td>-1.3</td>\n",
       "      <td>0.8</td>\n",
       "    </tr>\n",
       "    <tr>\n",
       "      <th>15</th>\n",
       "      <td>31/03/2019</td>\n",
       "      <td>-5.2</td>\n",
       "      <td>-0.8</td>\n",
       "    </tr>\n",
       "    <tr>\n",
       "      <th>16</th>\n",
       "      <td>30/04/2019</td>\n",
       "      <td>-3.1</td>\n",
       "      <td>0.1</td>\n",
       "    </tr>\n",
       "    <tr>\n",
       "      <th>17</th>\n",
       "      <td>31/05/2019</td>\n",
       "      <td>-7.2</td>\n",
       "      <td>-0.4</td>\n",
       "    </tr>\n",
       "    <tr>\n",
       "      <th>18</th>\n",
       "      <td>30/06/2019</td>\n",
       "      <td>-8.0</td>\n",
       "      <td>-0.4</td>\n",
       "    </tr>\n",
       "    <tr>\n",
       "      <th>19</th>\n",
       "      <td>31/07/2019</td>\n",
       "      <td>-9.6</td>\n",
       "      <td>-0.6</td>\n",
       "    </tr>\n",
       "    <tr>\n",
       "      <th>20</th>\n",
       "      <td>31/08/2019</td>\n",
       "      <td>-4.1</td>\n",
       "      <td>-0.6</td>\n",
       "    </tr>\n",
       "    <tr>\n",
       "      <th>21</th>\n",
       "      <td>30/09/2019</td>\n",
       "      <td>-7.5</td>\n",
       "      <td>-0.5</td>\n",
       "    </tr>\n",
       "    <tr>\n",
       "      <th>22</th>\n",
       "      <td>31/10/2019</td>\n",
       "      <td>-9.0</td>\n",
       "      <td>-0.7</td>\n",
       "    </tr>\n",
       "    <tr>\n",
       "      <th>23</th>\n",
       "      <td>30/11/2019</td>\n",
       "      <td>-3.3</td>\n",
       "      <td>-1.0</td>\n",
       "    </tr>\n",
       "    <tr>\n",
       "      <th>24</th>\n",
       "      <td>31/12/2019</td>\n",
       "      <td>-3.5</td>\n",
       "      <td>-0.3</td>\n",
       "    </tr>\n",
       "    <tr>\n",
       "      <th>25</th>\n",
       "      <td>31/01/2020</td>\n",
       "      <td>-8.5</td>\n",
       "      <td>-0.8</td>\n",
       "    </tr>\n",
       "    <tr>\n",
       "      <th>26</th>\n",
       "      <td>29/02/2020</td>\n",
       "      <td>-10.6</td>\n",
       "      <td>-1.7</td>\n",
       "    </tr>\n",
       "    <tr>\n",
       "      <th>27</th>\n",
       "      <td>31/03/2020</td>\n",
       "      <td>-11.1</td>\n",
       "      <td>-2.5</td>\n",
       "    </tr>\n",
       "    <tr>\n",
       "      <th>28</th>\n",
       "      <td>30/04/2020</td>\n",
       "      <td>-38.2</td>\n",
       "      <td>-19.7</td>\n",
       "    </tr>\n",
       "    <tr>\n",
       "      <th>29</th>\n",
       "      <td>31/05/2020</td>\n",
       "      <td>-38.7</td>\n",
       "      <td>-21.6</td>\n",
       "    </tr>\n",
       "    <tr>\n",
       "      <th>30</th>\n",
       "      <td>30/06/2020</td>\n",
       "      <td>-25.2</td>\n",
       "      <td>-14.6</td>\n",
       "    </tr>\n",
       "    <tr>\n",
       "      <th>31</th>\n",
       "      <td>31/07/2020</td>\n",
       "      <td>-21.2</td>\n",
       "      <td>-9.8</td>\n",
       "    </tr>\n",
       "  </tbody>\n",
       "</table>\n",
       "</div>"
      ],
      "text/plain": [
       "         Fecha  Inversion Fija Bruta  \\\n",
       "1   31/01/2018                   1.1   \n",
       "2   28/02/2018                   4.3   \n",
       "3   31/03/2018                   2.8   \n",
       "4   30/04/2018                   5.3   \n",
       "5   31/05/2018                   3.7   \n",
       "6   30/06/2018                   2.3   \n",
       "7   31/07/2018                   4.1   \n",
       "8   31/08/2018                  -1.8   \n",
       "9   30/09/2018                   0.3   \n",
       "10  31/10/2018                   1.9   \n",
       "11  30/11/2018                  -3.3   \n",
       "12  31/12/2018                  -7.8   \n",
       "13  31/01/2019                   0.6   \n",
       "14  28/02/2019                  -1.3   \n",
       "15  31/03/2019                  -5.2   \n",
       "16  30/04/2019                  -3.1   \n",
       "17  31/05/2019                  -7.2   \n",
       "18  30/06/2019                  -8.0   \n",
       "19  31/07/2019                  -9.6   \n",
       "20  31/08/2019                  -4.1   \n",
       "21  30/09/2019                  -7.5   \n",
       "22  31/10/2019                  -9.0   \n",
       "23  30/11/2019                  -3.3   \n",
       "24  31/12/2019                  -3.5   \n",
       "25  31/01/2020                  -8.5   \n",
       "26  29/02/2020                 -10.6   \n",
       "27  31/03/2020                 -11.1   \n",
       "28  30/04/2020                 -38.2   \n",
       "29  31/05/2020                 -38.7   \n",
       "30  30/06/2020                 -25.2   \n",
       "31  31/07/2020                 -21.2   \n",
       "\n",
       "    Indicador Global de la Actividad Económica  \n",
       "1                                          1.3  \n",
       "2                                          2.2  \n",
       "3                                          2.8  \n",
       "4                                          2.1  \n",
       "5                                          3.1  \n",
       "6                                          2.0  \n",
       "7                                          3.1  \n",
       "8                                          2.3  \n",
       "9                                          3.3  \n",
       "10                                         1.8  \n",
       "11                                         1.2  \n",
       "12                                        -0.5  \n",
       "13                                         0.9  \n",
       "14                                         0.8  \n",
       "15                                        -0.8  \n",
       "16                                         0.1  \n",
       "17                                        -0.4  \n",
       "18                                        -0.4  \n",
       "19                                        -0.6  \n",
       "20                                        -0.6  \n",
       "21                                        -0.5  \n",
       "22                                        -0.7  \n",
       "23                                        -1.0  \n",
       "24                                        -0.3  \n",
       "25                                        -0.8  \n",
       "26                                        -1.7  \n",
       "27                                        -2.5  \n",
       "28                                       -19.7  \n",
       "29                                       -21.6  \n",
       "30                                       -14.6  \n",
       "31                                        -9.8  "
      ]
     },
     "execution_count": 62,
     "metadata": {},
     "output_type": "execute_result"
    }
   ],
   "source": [
    "df_ig.dropna()"
   ]
  },
  {
   "cell_type": "code",
   "execution_count": 63,
   "metadata": {},
   "outputs": [],
   "source": [
    "df_ig['Fecha'] = pd.to_datetime(df_ig['Fecha'], errors='coerce')\n",
    "df_ig= df_ig.set_index('Fecha')"
   ]
  },
  {
   "cell_type": "markdown",
   "metadata": {},
   "source": [
    "En la siguiente gráfica se muestra el comportamiento de los dos indicadores, en el que se observa que tienen casi el mismo comportamiento durante la pandemia."
   ]
  },
  {
   "cell_type": "code",
   "execution_count": 64,
   "metadata": {},
   "outputs": [
    {
     "data": {
      "image/png": "[encoded data removed]",
      "text/plain": [
       "<Figure size 360x360 with 1 Axes>"
      ]
     },
     "metadata": {
      "needs_background": "light"
     },
     "output_type": "display_data"
    }
   ],
   "source": [
    "df_ig= df_ig.loc['2019-01-31':'2020-07-31']\n",
    "df_ig.plot(figsize=(5,5))\n",
    "plt.show()"
   ]
  },
  {
   "cell_type": "markdown",
   "metadata": {},
   "source": [
    "Realizamos una gráfica de dispersión para ver si hay una relación lineal entre los dos indicadores."
   ]
  },
  {
   "cell_type": "code",
   "execution_count": 65,
   "metadata": {},
   "outputs": [
    {
     "data": {
      "image/png": "[encoded data removed]",
      "text/plain": [
       "<Figure size 360x360 with 1 Axes>"
      ]
     },
     "metadata": {
      "needs_background": "light"
     },
     "output_type": "display_data"
    }
   ],
   "source": [
    "df_ig.plot.scatter(figsize=(5,5), x='Inversion Fija Bruta', y='Indicador Global de la Actividad Económica')\n",
    "plt.show()"
   ]
  },
  {
   "cell_type": "code",
   "execution_count": 66,
   "metadata": {},
   "outputs": [],
   "source": [
    "igae= df_ig['Indicador Global de la Actividad Económica'].values #Nos quedamos unicamente con los valores de nuestras variables\n",
    "ifb= df_ig['Inversion Fija Bruta'].values"
   ]
  },
  {
   "cell_type": "code",
   "execution_count": 72,
   "metadata": {},
   "outputs": [],
   "source": [
    "X= np.array([ifb]).T #Convertimos a numpy y le hacemos la transpuesta para que nos quede una matriz\n",
    "Y= np.array(igae) #Vector"
   ]
  },
  {
   "cell_type": "markdown",
   "metadata": {},
   "source": [
    "Entrenamos el modelo"
   ]
  },
  {
   "cell_type": "code",
   "execution_count": 73,
   "metadata": {},
   "outputs": [],
   "source": [
    "reg= LinearRegression()\n",
    "reg= reg.fit(X,Y)"
   ]
  },
  {
   "cell_type": "code",
   "execution_count": 74,
   "metadata": {},
   "outputs": [],
   "source": [
    "Y_pred= reg.predict(X)"
   ]
  },
  {
   "cell_type": "markdown",
   "metadata": {},
   "source": [
    "Se calcula el error de estimacion"
   ]
  },
  {
   "cell_type": "code",
   "execution_count": 75,
   "metadata": {},
   "outputs": [],
   "source": [
    "error= np.sqrt(mean_squared_error(Y,Y_pred))"
   ]
  },
  {
   "cell_type": "markdown",
   "metadata": {},
   "source": [
    "Calculo de la r^2 "
   ]
  },
  {
   "cell_type": "code",
   "execution_count": 76,
   "metadata": {},
   "outputs": [],
   "source": [
    "r2= reg.score(X,Y)"
   ]
  },
  {
   "cell_type": "markdown",
   "metadata": {},
   "source": [
    "El modelo nos arroja que efectivamente la inversión fija bruta de capital (X) puede explicar el crecimiento de la actividad económica (Y). Es decir, cuando la inversión crece un punto porcentual, la producción lo hará en 3%, segun los resultados preedichos por modelo. \n",
    "\n",
    "El modelo está muy bien explicado pues el r2 arroja un valor muy cercano a uno, lo que quiere decir que el modelo se explica muy bien. Ademas, el término de error es muy bajo."
   ]
  },
  {
   "cell_type": "code",
   "execution_count": 38,
   "metadata": {},
   "outputs": [
    {
     "name": "stdout",
     "output_type": "stream",
     "text": [
      "El error es: 1.4760333778576298\n",
      "El valor de r2 es: 0.9534277188774308\n",
      "Los coeficientes son: \n",
      "[0.60088964]\n",
      "El IGAE será de: \n",
      "[3.4856794]\n"
     ]
    }
   ],
   "source": [
    "print(\"El error es: \" + str(error))\n",
    "print(\"El valor de r2 es: \" + str(r2))\n",
    "print(\"Los coeficientes son: \\n\" + str(reg.coef_ ))\n",
    "ifb= 1.0\n",
    "print(\"El IGAE será de: \\n\" + str(reg.predict([[ifb]])))"
   ]
  },
  {
   "cell_type": "code",
   "execution_count": null,
   "metadata": {},
   "outputs": [],
   "source": []
  }
 ],
 "metadata": {
  "kernelspec": {
   "display_name": "Python 3",
   "language": "python",
   "name": "python3"
  },
  "language_info": {
   "codemirror_mode": {
    "name": "ipython",
    "version": 3
   },
   "file_extension": ".py",
   "mimetype": "text/x-python",
   "name": "python",
   "nbconvert_exporter": "python",
   "pygments_lexer": "ipython3",
   "version": "3.7.7"
  }
 },
 "nbformat": 4,
 "nbformat_minor": 4
}
